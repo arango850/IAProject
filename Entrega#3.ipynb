{
 "cells": [
  {
   "cell_type": "code",
   "execution_count": 1,
   "id": "57c0a77f",
   "metadata": {},
   "outputs": [],
   "source": [
    "import pandas as pd\n",
    "import numpy as np\n",
    "import matplotlib.pyplot as plt\n",
    "import seaborn as sns\n",
    "import time \n",
    "import warnings\n",
    "warnings.simplefilter(\"ignore\")"
   ]
  },
  {
   "cell_type": "code",
   "execution_count": 2,
   "id": "a1a562d2",
   "metadata": {},
   "outputs": [],
   "source": [
    "result_df= pd.read_csv(r\"data/results.csv\")"
   ]
  },
  {
   "cell_type": "code",
   "execution_count": 3,
   "id": "8520f2f3",
   "metadata": {},
   "outputs": [],
   "source": [
    "stats_df= pd.read_csv(r\"data/status.csv\")"
   ]
  },
  {
   "cell_type": "code",
   "execution_count": 4,
   "id": "55fd3130",
   "metadata": {},
   "outputs": [],
   "source": [
    "drivers_df= pd.read_csv(r\"data/drivers.csv\")"
   ]
  },
  {
   "cell_type": "code",
   "execution_count": 5,
   "id": "8c947916",
   "metadata": {},
   "outputs": [],
   "source": [
    "races_df= pd.read_csv(r\"data/races.csv\")"
   ]
  },
  {
   "cell_type": "code",
   "execution_count": 6,
   "id": "2fed59b2",
   "metadata": {},
   "outputs": [],
   "source": [
    "constructor_df = pd.read_csv(r\"data/constructors.csv\")"
   ]
  },
  {
   "cell_type": "code",
   "execution_count": 7,
   "id": "f22f979a",
   "metadata": {},
   "outputs": [],
   "source": [
    "driver_standings= pd.read_csv(r\"data/driver_standings.csv\")"
   ]
  },
  {
   "cell_type": "code",
   "execution_count": 8,
   "id": "c9b9441c",
   "metadata": {},
   "outputs": [
    {
     "data": {
      "text/html": [
       "<div>\n",
       "<style scoped>\n",
       "    .dataframe tbody tr th:only-of-type {\n",
       "        vertical-align: middle;\n",
       "    }\n",
       "\n",
       "    .dataframe tbody tr th {\n",
       "        vertical-align: top;\n",
       "    }\n",
       "\n",
       "    .dataframe thead th {\n",
       "        text-align: right;\n",
       "    }\n",
       "</style>\n",
       "<table border=\"1\" class=\"dataframe\">\n",
       "  <thead>\n",
       "    <tr style=\"text-align: right;\">\n",
       "      <th></th>\n",
       "      <th>resultId</th>\n",
       "      <th>raceId_x</th>\n",
       "      <th>driverId</th>\n",
       "      <th>constructorId</th>\n",
       "      <th>number_x</th>\n",
       "      <th>grid</th>\n",
       "      <th>position_x</th>\n",
       "      <th>positionText_x</th>\n",
       "      <th>positionOrder</th>\n",
       "      <th>points_x</th>\n",
       "      <th>...</th>\n",
       "      <th>raceId_y</th>\n",
       "      <th>points_y</th>\n",
       "      <th>position_y</th>\n",
       "      <th>positionText_y</th>\n",
       "      <th>wins</th>\n",
       "      <th>constructorRef</th>\n",
       "      <th>name_y</th>\n",
       "      <th>nationality_y</th>\n",
       "      <th>url</th>\n",
       "      <th>status</th>\n",
       "    </tr>\n",
       "  </thead>\n",
       "  <tbody>\n",
       "    <tr>\n",
       "      <th>0</th>\n",
       "      <td>1</td>\n",
       "      <td>18</td>\n",
       "      <td>1</td>\n",
       "      <td>1</td>\n",
       "      <td>22</td>\n",
       "      <td>1</td>\n",
       "      <td>1</td>\n",
       "      <td>1</td>\n",
       "      <td>1</td>\n",
       "      <td>10.0</td>\n",
       "      <td>...</td>\n",
       "      <td>18</td>\n",
       "      <td>10.0</td>\n",
       "      <td>1</td>\n",
       "      <td>1</td>\n",
       "      <td>1</td>\n",
       "      <td>mclaren</td>\n",
       "      <td>McLaren</td>\n",
       "      <td>British</td>\n",
       "      <td>http://en.wikipedia.org/wiki/McLaren</td>\n",
       "      <td>Finished</td>\n",
       "    </tr>\n",
       "    <tr>\n",
       "      <th>1</th>\n",
       "      <td>1</td>\n",
       "      <td>18</td>\n",
       "      <td>1</td>\n",
       "      <td>1</td>\n",
       "      <td>22</td>\n",
       "      <td>1</td>\n",
       "      <td>1</td>\n",
       "      <td>1</td>\n",
       "      <td>1</td>\n",
       "      <td>10.0</td>\n",
       "      <td>...</td>\n",
       "      <td>19</td>\n",
       "      <td>14.0</td>\n",
       "      <td>1</td>\n",
       "      <td>1</td>\n",
       "      <td>1</td>\n",
       "      <td>mclaren</td>\n",
       "      <td>McLaren</td>\n",
       "      <td>British</td>\n",
       "      <td>http://en.wikipedia.org/wiki/McLaren</td>\n",
       "      <td>Finished</td>\n",
       "    </tr>\n",
       "    <tr>\n",
       "      <th>2</th>\n",
       "      <td>1</td>\n",
       "      <td>18</td>\n",
       "      <td>1</td>\n",
       "      <td>1</td>\n",
       "      <td>22</td>\n",
       "      <td>1</td>\n",
       "      <td>1</td>\n",
       "      <td>1</td>\n",
       "      <td>1</td>\n",
       "      <td>10.0</td>\n",
       "      <td>...</td>\n",
       "      <td>20</td>\n",
       "      <td>14.0</td>\n",
       "      <td>3</td>\n",
       "      <td>3</td>\n",
       "      <td>1</td>\n",
       "      <td>mclaren</td>\n",
       "      <td>McLaren</td>\n",
       "      <td>British</td>\n",
       "      <td>http://en.wikipedia.org/wiki/McLaren</td>\n",
       "      <td>Finished</td>\n",
       "    </tr>\n",
       "    <tr>\n",
       "      <th>3</th>\n",
       "      <td>1</td>\n",
       "      <td>18</td>\n",
       "      <td>1</td>\n",
       "      <td>1</td>\n",
       "      <td>22</td>\n",
       "      <td>1</td>\n",
       "      <td>1</td>\n",
       "      <td>1</td>\n",
       "      <td>1</td>\n",
       "      <td>10.0</td>\n",
       "      <td>...</td>\n",
       "      <td>21</td>\n",
       "      <td>20.0</td>\n",
       "      <td>2</td>\n",
       "      <td>2</td>\n",
       "      <td>1</td>\n",
       "      <td>mclaren</td>\n",
       "      <td>McLaren</td>\n",
       "      <td>British</td>\n",
       "      <td>http://en.wikipedia.org/wiki/McLaren</td>\n",
       "      <td>Finished</td>\n",
       "    </tr>\n",
       "    <tr>\n",
       "      <th>4</th>\n",
       "      <td>1</td>\n",
       "      <td>18</td>\n",
       "      <td>1</td>\n",
       "      <td>1</td>\n",
       "      <td>22</td>\n",
       "      <td>1</td>\n",
       "      <td>1</td>\n",
       "      <td>1</td>\n",
       "      <td>1</td>\n",
       "      <td>10.0</td>\n",
       "      <td>...</td>\n",
       "      <td>22</td>\n",
       "      <td>28.0</td>\n",
       "      <td>3</td>\n",
       "      <td>3</td>\n",
       "      <td>1</td>\n",
       "      <td>mclaren</td>\n",
       "      <td>McLaren</td>\n",
       "      <td>British</td>\n",
       "      <td>http://en.wikipedia.org/wiki/McLaren</td>\n",
       "      <td>Finished</td>\n",
       "    </tr>\n",
       "  </tbody>\n",
       "</table>\n",
       "<p>5 rows × 54 columns</p>\n",
       "</div>"
      ],
      "text/plain": [
       "   resultId  raceId_x  driverId  constructorId number_x  grid position_x  \\\n",
       "0         1        18         1              1       22     1          1   \n",
       "1         1        18         1              1       22     1          1   \n",
       "2         1        18         1              1       22     1          1   \n",
       "3         1        18         1              1       22     1          1   \n",
       "4         1        18         1              1       22     1          1   \n",
       "\n",
       "  positionText_x  positionOrder  points_x  ...  raceId_y points_y position_y  \\\n",
       "0              1              1      10.0  ...        18     10.0          1   \n",
       "1              1              1      10.0  ...        19     14.0          1   \n",
       "2              1              1      10.0  ...        20     14.0          3   \n",
       "3              1              1      10.0  ...        21     20.0          2   \n",
       "4              1              1      10.0  ...        22     28.0          3   \n",
       "\n",
       "  positionText_y wins constructorRef   name_y  nationality_y  \\\n",
       "0              1    1        mclaren  McLaren        British   \n",
       "1              1    1        mclaren  McLaren        British   \n",
       "2              3    1        mclaren  McLaren        British   \n",
       "3              2    1        mclaren  McLaren        British   \n",
       "4              3    1        mclaren  McLaren        British   \n",
       "\n",
       "                                    url    status  \n",
       "0  http://en.wikipedia.org/wiki/McLaren  Finished  \n",
       "1  http://en.wikipedia.org/wiki/McLaren  Finished  \n",
       "2  http://en.wikipedia.org/wiki/McLaren  Finished  \n",
       "3  http://en.wikipedia.org/wiki/McLaren  Finished  \n",
       "4  http://en.wikipedia.org/wiki/McLaren  Finished  \n",
       "\n",
       "[5 rows x 54 columns]"
      ]
     },
     "execution_count": 8,
     "metadata": {},
     "output_type": "execute_result"
    }
   ],
   "source": [
    "con1 = pd.merge(result_df, races_df, on ='raceId')\n",
    "con2 = pd.merge(con1, drivers_df, on = 'driverId')\n",
    "con3 = pd.merge(con2, driver_standings, on = 'driverId')\n",
    "con4 = pd.merge(con3, constructor_df, on ='constructorId')\n",
    "data = pd.merge(con4, stats_df, on ='statusId')\n",
    "pd.get_option(\"display.max_columns\",None)\n",
    "data.head()"
   ]
  },
  {
   "cell_type": "code",
   "execution_count": 9,
   "id": "da36804e",
   "metadata": {},
   "outputs": [
    {
     "name": "stdout",
     "output_type": "stream",
     "text": [
      "<class 'pandas.core.frame.DataFrame'>\n",
      "Int64Index: 3475793 entries, 0 to 3475792\n",
      "Data columns (total 54 columns):\n",
      " #   Column             Dtype  \n",
      "---  ------             -----  \n",
      " 0   resultId           int64  \n",
      " 1   raceId_x           int64  \n",
      " 2   driverId           int64  \n",
      " 3   constructorId      int64  \n",
      " 4   number_x           object \n",
      " 5   grid               int64  \n",
      " 6   position_x         object \n",
      " 7   positionText_x     object \n",
      " 8   positionOrder      int64  \n",
      " 9   points_x           float64\n",
      " 10  laps               int64  \n",
      " 11  time_x             object \n",
      " 12  milliseconds       object \n",
      " 13  fastestLap         object \n",
      " 14  rank               object \n",
      " 15  fastestLapTime     object \n",
      " 16  fastestLapSpeed    object \n",
      " 17  statusId           int64  \n",
      " 18  year               int64  \n",
      " 19  round              int64  \n",
      " 20  circuitId          int64  \n",
      " 21  name_x             object \n",
      " 22  date               object \n",
      " 23  time_y             object \n",
      " 24  url_x              object \n",
      " 25  fp1_date           object \n",
      " 26  fp1_time           object \n",
      " 27  fp2_date           object \n",
      " 28  fp2_time           object \n",
      " 29  fp3_date           object \n",
      " 30  fp3_time           object \n",
      " 31  quali_date         object \n",
      " 32  quali_time         object \n",
      " 33  sprint_date        object \n",
      " 34  sprint_time        object \n",
      " 35  driverRef          object \n",
      " 36  number_y           object \n",
      " 37  code               object \n",
      " 38  forename           object \n",
      " 39  surname            object \n",
      " 40  dob                object \n",
      " 41  nationality_x      object \n",
      " 42  url_y              object \n",
      " 43  driverStandingsId  int64  \n",
      " 44  raceId_y           int64  \n",
      " 45  points_y           float64\n",
      " 46  position_y         int64  \n",
      " 47  positionText_y     object \n",
      " 48  wins               int64  \n",
      " 49  constructorRef     object \n",
      " 50  name_y             object \n",
      " 51  nationality_y      object \n",
      " 52  url                object \n",
      " 53  status             object \n",
      "dtypes: float64(2), int64(15), object(37)\n",
      "memory usage: 1.4+ GB\n"
     ]
    }
   ],
   "source": [
    "data.info()"
   ]
  },
  {
   "cell_type": "code",
   "execution_count": 10,
   "id": "e6ae17a1",
   "metadata": {},
   "outputs": [],
   "source": [
    "data = data.drop([\"number_x\",\"positionText_x\",\"positionOrder\",\n",
    "                  \"date\",\"time_y\",\"url_x\",\"fp1_date\",\"fp1_time\",\"fp2_date\",\"fp2_time\",\"fp3_date\",\"fp3_time\",\"quali_date\",\n",
    "                 \"quali_time\",\"sprint_date\",\"sprint_time\",\"number_y\",\"forename\",\"surname\",\"url_y\",\"raceId_y\",\"points_y\",\n",
    "                 \"positionText_y\",\"url\",\"nationality_y\",\"code\",\"driverStandingsId\",\"circuitId\",\"round\",\"time_x\",\"rank\",\n",
    "                  \"fastestLapTime\",\"position_y\",\"name_y\",\"wins\"],1)"
   ]
  },
  {
   "cell_type": "code",
   "execution_count": 11,
   "id": "a744bf77",
   "metadata": {},
   "outputs": [
    {
     "name": "stdout",
     "output_type": "stream",
     "text": [
      "<class 'pandas.core.frame.DataFrame'>\n",
      "Int64Index: 3475793 entries, 0 to 3475792\n",
      "Data columns (total 19 columns):\n",
      " #   Column           Dtype  \n",
      "---  ------           -----  \n",
      " 0   resultId         int64  \n",
      " 1   raceId_x         int64  \n",
      " 2   driverId         int64  \n",
      " 3   constructorId    int64  \n",
      " 4   grid             int64  \n",
      " 5   position_x       object \n",
      " 6   points_x         float64\n",
      " 7   laps             int64  \n",
      " 8   milliseconds     object \n",
      " 9   fastestLap       object \n",
      " 10  fastestLapSpeed  object \n",
      " 11  statusId         int64  \n",
      " 12  year             int64  \n",
      " 13  name_x           object \n",
      " 14  driverRef        object \n",
      " 15  dob              object \n",
      " 16  nationality_x    object \n",
      " 17  constructorRef   object \n",
      " 18  status           object \n",
      "dtypes: float64(1), int64(8), object(10)\n",
      "memory usage: 530.4+ MB\n"
     ]
    }
   ],
   "source": [
    "data.info()"
   ]
  },
  {
   "cell_type": "code",
   "execution_count": 12,
   "id": "ed13ec22",
   "metadata": {},
   "outputs": [
    {
     "data": {
      "text/html": [
       "<div>\n",
       "<style scoped>\n",
       "    .dataframe tbody tr th:only-of-type {\n",
       "        vertical-align: middle;\n",
       "    }\n",
       "\n",
       "    .dataframe tbody tr th {\n",
       "        vertical-align: top;\n",
       "    }\n",
       "\n",
       "    .dataframe thead th {\n",
       "        text-align: right;\n",
       "    }\n",
       "</style>\n",
       "<table border=\"1\" class=\"dataframe\">\n",
       "  <thead>\n",
       "    <tr style=\"text-align: right;\">\n",
       "      <th></th>\n",
       "      <th>resultId</th>\n",
       "      <th>raceId_x</th>\n",
       "      <th>driverId</th>\n",
       "      <th>constructorId</th>\n",
       "      <th>grid</th>\n",
       "      <th>position_x</th>\n",
       "      <th>points_x</th>\n",
       "      <th>laps</th>\n",
       "      <th>milliseconds</th>\n",
       "      <th>fastestLap</th>\n",
       "      <th>fastestLapSpeed</th>\n",
       "      <th>statusId</th>\n",
       "      <th>year</th>\n",
       "      <th>name_x</th>\n",
       "      <th>driverRef</th>\n",
       "      <th>dob</th>\n",
       "      <th>nationality_x</th>\n",
       "      <th>constructorRef</th>\n",
       "      <th>status</th>\n",
       "    </tr>\n",
       "  </thead>\n",
       "  <tbody>\n",
       "    <tr>\n",
       "      <th>0</th>\n",
       "      <td>1</td>\n",
       "      <td>18</td>\n",
       "      <td>1</td>\n",
       "      <td>1</td>\n",
       "      <td>1</td>\n",
       "      <td>1</td>\n",
       "      <td>10.0</td>\n",
       "      <td>58</td>\n",
       "      <td>5690616</td>\n",
       "      <td>39</td>\n",
       "      <td>218.300</td>\n",
       "      <td>1</td>\n",
       "      <td>2008</td>\n",
       "      <td>Australian Grand Prix</td>\n",
       "      <td>hamilton</td>\n",
       "      <td>1985-01-07</td>\n",
       "      <td>British</td>\n",
       "      <td>mclaren</td>\n",
       "      <td>Finished</td>\n",
       "    </tr>\n",
       "    <tr>\n",
       "      <th>1</th>\n",
       "      <td>1</td>\n",
       "      <td>18</td>\n",
       "      <td>1</td>\n",
       "      <td>1</td>\n",
       "      <td>1</td>\n",
       "      <td>1</td>\n",
       "      <td>10.0</td>\n",
       "      <td>58</td>\n",
       "      <td>5690616</td>\n",
       "      <td>39</td>\n",
       "      <td>218.300</td>\n",
       "      <td>1</td>\n",
       "      <td>2008</td>\n",
       "      <td>Australian Grand Prix</td>\n",
       "      <td>hamilton</td>\n",
       "      <td>1985-01-07</td>\n",
       "      <td>British</td>\n",
       "      <td>mclaren</td>\n",
       "      <td>Finished</td>\n",
       "    </tr>\n",
       "    <tr>\n",
       "      <th>2</th>\n",
       "      <td>1</td>\n",
       "      <td>18</td>\n",
       "      <td>1</td>\n",
       "      <td>1</td>\n",
       "      <td>1</td>\n",
       "      <td>1</td>\n",
       "      <td>10.0</td>\n",
       "      <td>58</td>\n",
       "      <td>5690616</td>\n",
       "      <td>39</td>\n",
       "      <td>218.300</td>\n",
       "      <td>1</td>\n",
       "      <td>2008</td>\n",
       "      <td>Australian Grand Prix</td>\n",
       "      <td>hamilton</td>\n",
       "      <td>1985-01-07</td>\n",
       "      <td>British</td>\n",
       "      <td>mclaren</td>\n",
       "      <td>Finished</td>\n",
       "    </tr>\n",
       "    <tr>\n",
       "      <th>3</th>\n",
       "      <td>1</td>\n",
       "      <td>18</td>\n",
       "      <td>1</td>\n",
       "      <td>1</td>\n",
       "      <td>1</td>\n",
       "      <td>1</td>\n",
       "      <td>10.0</td>\n",
       "      <td>58</td>\n",
       "      <td>5690616</td>\n",
       "      <td>39</td>\n",
       "      <td>218.300</td>\n",
       "      <td>1</td>\n",
       "      <td>2008</td>\n",
       "      <td>Australian Grand Prix</td>\n",
       "      <td>hamilton</td>\n",
       "      <td>1985-01-07</td>\n",
       "      <td>British</td>\n",
       "      <td>mclaren</td>\n",
       "      <td>Finished</td>\n",
       "    </tr>\n",
       "    <tr>\n",
       "      <th>4</th>\n",
       "      <td>1</td>\n",
       "      <td>18</td>\n",
       "      <td>1</td>\n",
       "      <td>1</td>\n",
       "      <td>1</td>\n",
       "      <td>1</td>\n",
       "      <td>10.0</td>\n",
       "      <td>58</td>\n",
       "      <td>5690616</td>\n",
       "      <td>39</td>\n",
       "      <td>218.300</td>\n",
       "      <td>1</td>\n",
       "      <td>2008</td>\n",
       "      <td>Australian Grand Prix</td>\n",
       "      <td>hamilton</td>\n",
       "      <td>1985-01-07</td>\n",
       "      <td>British</td>\n",
       "      <td>mclaren</td>\n",
       "      <td>Finished</td>\n",
       "    </tr>\n",
       "  </tbody>\n",
       "</table>\n",
       "</div>"
      ],
      "text/plain": [
       "   resultId  raceId_x  driverId  constructorId  grid position_x  points_x  \\\n",
       "0         1        18         1              1     1          1      10.0   \n",
       "1         1        18         1              1     1          1      10.0   \n",
       "2         1        18         1              1     1          1      10.0   \n",
       "3         1        18         1              1     1          1      10.0   \n",
       "4         1        18         1              1     1          1      10.0   \n",
       "\n",
       "   laps milliseconds fastestLap fastestLapSpeed  statusId  year  \\\n",
       "0    58      5690616         39         218.300         1  2008   \n",
       "1    58      5690616         39         218.300         1  2008   \n",
       "2    58      5690616         39         218.300         1  2008   \n",
       "3    58      5690616         39         218.300         1  2008   \n",
       "4    58      5690616         39         218.300         1  2008   \n",
       "\n",
       "                  name_x driverRef         dob nationality_x constructorRef  \\\n",
       "0  Australian Grand Prix  hamilton  1985-01-07       British        mclaren   \n",
       "1  Australian Grand Prix  hamilton  1985-01-07       British        mclaren   \n",
       "2  Australian Grand Prix  hamilton  1985-01-07       British        mclaren   \n",
       "3  Australian Grand Prix  hamilton  1985-01-07       British        mclaren   \n",
       "4  Australian Grand Prix  hamilton  1985-01-07       British        mclaren   \n",
       "\n",
       "     status  \n",
       "0  Finished  \n",
       "1  Finished  \n",
       "2  Finished  \n",
       "3  Finished  \n",
       "4  Finished  "
      ]
     },
     "execution_count": 12,
     "metadata": {},
     "output_type": "execute_result"
    }
   ],
   "source": [
    "pd.get_option(\"display.max_columns\",None)\n",
    "data.head()"
   ]
  },
  {
   "cell_type": "code",
   "execution_count": 13,
   "id": "b0595660",
   "metadata": {},
   "outputs": [
    {
     "data": {
      "text/html": [
       "<div>\n",
       "<style scoped>\n",
       "    .dataframe tbody tr th:only-of-type {\n",
       "        vertical-align: middle;\n",
       "    }\n",
       "\n",
       "    .dataframe tbody tr th {\n",
       "        vertical-align: top;\n",
       "    }\n",
       "\n",
       "    .dataframe thead th {\n",
       "        text-align: right;\n",
       "    }\n",
       "</style>\n",
       "<table border=\"1\" class=\"dataframe\">\n",
       "  <thead>\n",
       "    <tr style=\"text-align: right;\">\n",
       "      <th></th>\n",
       "      <th>resultId</th>\n",
       "      <th>racerId</th>\n",
       "      <th>driverId</th>\n",
       "      <th>constructorId</th>\n",
       "      <th>grid</th>\n",
       "      <th>finish</th>\n",
       "      <th>points</th>\n",
       "      <th>laps</th>\n",
       "      <th>timetaken_in_millisec</th>\n",
       "      <th>fastestLap</th>\n",
       "      <th>max_speed</th>\n",
       "      <th>statusId</th>\n",
       "      <th>year</th>\n",
       "      <th>grand_prix</th>\n",
       "      <th>driverRef</th>\n",
       "      <th>dob</th>\n",
       "      <th>nationality</th>\n",
       "      <th>constructorRef</th>\n",
       "      <th>status</th>\n",
       "    </tr>\n",
       "  </thead>\n",
       "  <tbody>\n",
       "    <tr>\n",
       "      <th>0</th>\n",
       "      <td>1</td>\n",
       "      <td>18</td>\n",
       "      <td>1</td>\n",
       "      <td>1</td>\n",
       "      <td>1</td>\n",
       "      <td>1</td>\n",
       "      <td>10.0</td>\n",
       "      <td>58</td>\n",
       "      <td>5690616</td>\n",
       "      <td>39</td>\n",
       "      <td>218.300</td>\n",
       "      <td>1</td>\n",
       "      <td>2008</td>\n",
       "      <td>Australian Grand Prix</td>\n",
       "      <td>hamilton</td>\n",
       "      <td>1985-01-07</td>\n",
       "      <td>British</td>\n",
       "      <td>mclaren</td>\n",
       "      <td>Finished</td>\n",
       "    </tr>\n",
       "    <tr>\n",
       "      <th>1</th>\n",
       "      <td>1</td>\n",
       "      <td>18</td>\n",
       "      <td>1</td>\n",
       "      <td>1</td>\n",
       "      <td>1</td>\n",
       "      <td>1</td>\n",
       "      <td>10.0</td>\n",
       "      <td>58</td>\n",
       "      <td>5690616</td>\n",
       "      <td>39</td>\n",
       "      <td>218.300</td>\n",
       "      <td>1</td>\n",
       "      <td>2008</td>\n",
       "      <td>Australian Grand Prix</td>\n",
       "      <td>hamilton</td>\n",
       "      <td>1985-01-07</td>\n",
       "      <td>British</td>\n",
       "      <td>mclaren</td>\n",
       "      <td>Finished</td>\n",
       "    </tr>\n",
       "    <tr>\n",
       "      <th>2</th>\n",
       "      <td>1</td>\n",
       "      <td>18</td>\n",
       "      <td>1</td>\n",
       "      <td>1</td>\n",
       "      <td>1</td>\n",
       "      <td>1</td>\n",
       "      <td>10.0</td>\n",
       "      <td>58</td>\n",
       "      <td>5690616</td>\n",
       "      <td>39</td>\n",
       "      <td>218.300</td>\n",
       "      <td>1</td>\n",
       "      <td>2008</td>\n",
       "      <td>Australian Grand Prix</td>\n",
       "      <td>hamilton</td>\n",
       "      <td>1985-01-07</td>\n",
       "      <td>British</td>\n",
       "      <td>mclaren</td>\n",
       "      <td>Finished</td>\n",
       "    </tr>\n",
       "    <tr>\n",
       "      <th>3</th>\n",
       "      <td>1</td>\n",
       "      <td>18</td>\n",
       "      <td>1</td>\n",
       "      <td>1</td>\n",
       "      <td>1</td>\n",
       "      <td>1</td>\n",
       "      <td>10.0</td>\n",
       "      <td>58</td>\n",
       "      <td>5690616</td>\n",
       "      <td>39</td>\n",
       "      <td>218.300</td>\n",
       "      <td>1</td>\n",
       "      <td>2008</td>\n",
       "      <td>Australian Grand Prix</td>\n",
       "      <td>hamilton</td>\n",
       "      <td>1985-01-07</td>\n",
       "      <td>British</td>\n",
       "      <td>mclaren</td>\n",
       "      <td>Finished</td>\n",
       "    </tr>\n",
       "    <tr>\n",
       "      <th>4</th>\n",
       "      <td>1</td>\n",
       "      <td>18</td>\n",
       "      <td>1</td>\n",
       "      <td>1</td>\n",
       "      <td>1</td>\n",
       "      <td>1</td>\n",
       "      <td>10.0</td>\n",
       "      <td>58</td>\n",
       "      <td>5690616</td>\n",
       "      <td>39</td>\n",
       "      <td>218.300</td>\n",
       "      <td>1</td>\n",
       "      <td>2008</td>\n",
       "      <td>Australian Grand Prix</td>\n",
       "      <td>hamilton</td>\n",
       "      <td>1985-01-07</td>\n",
       "      <td>British</td>\n",
       "      <td>mclaren</td>\n",
       "      <td>Finished</td>\n",
       "    </tr>\n",
       "  </tbody>\n",
       "</table>\n",
       "</div>"
      ],
      "text/plain": [
       "   resultId  racerId  driverId  constructorId  grid finish  points  laps  \\\n",
       "0         1       18         1              1     1      1    10.0    58   \n",
       "1         1       18         1              1     1      1    10.0    58   \n",
       "2         1       18         1              1     1      1    10.0    58   \n",
       "3         1       18         1              1     1      1    10.0    58   \n",
       "4         1       18         1              1     1      1    10.0    58   \n",
       "\n",
       "  timetaken_in_millisec fastestLap max_speed  statusId  year  \\\n",
       "0               5690616         39   218.300         1  2008   \n",
       "1               5690616         39   218.300         1  2008   \n",
       "2               5690616         39   218.300         1  2008   \n",
       "3               5690616         39   218.300         1  2008   \n",
       "4               5690616         39   218.300         1  2008   \n",
       "\n",
       "              grand_prix driverRef         dob nationality constructorRef  \\\n",
       "0  Australian Grand Prix  hamilton  1985-01-07     British        mclaren   \n",
       "1  Australian Grand Prix  hamilton  1985-01-07     British        mclaren   \n",
       "2  Australian Grand Prix  hamilton  1985-01-07     British        mclaren   \n",
       "3  Australian Grand Prix  hamilton  1985-01-07     British        mclaren   \n",
       "4  Australian Grand Prix  hamilton  1985-01-07     British        mclaren   \n",
       "\n",
       "     status  \n",
       "0  Finished  \n",
       "1  Finished  \n",
       "2  Finished  \n",
       "3  Finished  \n",
       "4  Finished  "
      ]
     },
     "execution_count": 13,
     "metadata": {},
     "output_type": "execute_result"
    }
   ],
   "source": [
    "col_name = {'raceId_x':'racerId','milliseconds':'timetaken_in_millisec','fastestLapSpeed':'max_speed',\n",
    " 'name_x':'grand_prix','nationality_x':'nationality','name_y':'company','points_x':'points','position_x':'finish'}\n",
    "data.rename(columns=col_name,inplace=True)\n",
    "data.head()"
   ]
  },
  {
   "cell_type": "code",
   "execution_count": 14,
   "id": "99e358f7",
   "metadata": {},
   "outputs": [
    {
     "name": "stdout",
     "output_type": "stream",
     "text": [
      "<class 'pandas.core.frame.DataFrame'>\n",
      "Int64Index: 3475793 entries, 0 to 3475792\n",
      "Data columns (total 19 columns):\n",
      " #   Column                 Dtype  \n",
      "---  ------                 -----  \n",
      " 0   resultId               int64  \n",
      " 1   racerId                int64  \n",
      " 2   driverId               int64  \n",
      " 3   constructorId          int64  \n",
      " 4   grid                   int64  \n",
      " 5   finish                 object \n",
      " 6   points                 float64\n",
      " 7   laps                   int64  \n",
      " 8   timetaken_in_millisec  object \n",
      " 9   fastestLap             object \n",
      " 10  max_speed              object \n",
      " 11  statusId               int64  \n",
      " 12  year                   int64  \n",
      " 13  grand_prix             object \n",
      " 14  driverRef              object \n",
      " 15  dob                    object \n",
      " 16  nationality            object \n",
      " 17  constructorRef         object \n",
      " 18  status                 object \n",
      "dtypes: float64(1), int64(8), object(10)\n",
      "memory usage: 530.4+ MB\n"
     ]
    }
   ],
   "source": [
    "data.info()"
   ]
  },
  {
   "cell_type": "code",
   "execution_count": 15,
   "id": "ec1667ea",
   "metadata": {},
   "outputs": [],
   "source": [
    "pd.to_datetime(data.dob)\n",
    "data['dob'] = pd.to_datetime(data['dob'])\n",
    "from datetime import datetime\n",
    "dates = datetime.today()-data['dob']\n",
    "age = dates.dt.days/365\n",
    "data['age'] = round(age)\n",
    "pd.set_option('display.max_columns', None)\n",
    "data=data.drop(\"dob\",1)"
   ]
  },
  {
   "cell_type": "code",
   "execution_count": 16,
   "id": "bebb38ba",
   "metadata": {},
   "outputs": [
    {
     "name": "stdout",
     "output_type": "stream",
     "text": [
      "<class 'pandas.core.frame.DataFrame'>\n",
      "Int64Index: 3475793 entries, 0 to 3475792\n",
      "Data columns (total 19 columns):\n",
      " #   Column                 Dtype  \n",
      "---  ------                 -----  \n",
      " 0   resultId               int64  \n",
      " 1   racerId                int64  \n",
      " 2   driverId               int64  \n",
      " 3   constructorId          int64  \n",
      " 4   grid                   int64  \n",
      " 5   finish                 object \n",
      " 6   points                 float64\n",
      " 7   laps                   int64  \n",
      " 8   timetaken_in_millisec  object \n",
      " 9   fastestLap             object \n",
      " 10  max_speed              object \n",
      " 11  statusId               int64  \n",
      " 12  year                   int64  \n",
      " 13  grand_prix             object \n",
      " 14  driverRef              object \n",
      " 15  nationality            object \n",
      " 16  constructorRef         object \n",
      " 17  status                 object \n",
      " 18  age                    float64\n",
      "dtypes: float64(2), int64(8), object(9)\n",
      "memory usage: 530.4+ MB\n"
     ]
    }
   ],
   "source": [
    "data.info()"
   ]
  },
  {
   "cell_type": "code",
   "execution_count": 17,
   "id": "9243ec30",
   "metadata": {},
   "outputs": [],
   "source": [
    "l = ['timetaken_in_millisec','fastestLap','max_speed',\"finish\"]\n",
    "for i in l:\n",
    "    data[i] = pd.to_numeric(data[i],errors='coerce')"
   ]
  },
  {
   "cell_type": "code",
   "execution_count": 18,
   "id": "cf16b0d9",
   "metadata": {},
   "outputs": [
    {
     "data": {
      "text/plain": [
       "(3475793, 19)"
      ]
     },
     "execution_count": 18,
     "metadata": {},
     "output_type": "execute_result"
    }
   ],
   "source": [
    "data.shape"
   ]
  },
  {
   "cell_type": "code",
   "execution_count": 19,
   "id": "fb5df63b",
   "metadata": {},
   "outputs": [
    {
     "data": {
      "text/plain": [
       "resultId                  0.000000\n",
       "racerId                   0.000000\n",
       "driverId                  0.000000\n",
       "constructorId             0.000000\n",
       "grid                      0.000000\n",
       "finish                   35.286106\n",
       "points                    0.000000\n",
       "laps                      0.000000\n",
       "timetaken_in_millisec    61.963788\n",
       "fastestLap               61.531685\n",
       "max_speed                61.531685\n",
       "statusId                  0.000000\n",
       "year                      0.000000\n",
       "grand_prix                0.000000\n",
       "driverRef                 0.000000\n",
       "nationality               0.000000\n",
       "constructorRef            0.000000\n",
       "status                    0.000000\n",
       "age                       0.000000\n",
       "dtype: float64"
      ]
     },
     "execution_count": 19,
     "metadata": {},
     "output_type": "execute_result"
    }
   ],
   "source": [
    "data.isnull().sum() / len(data) * 100"
   ]
  },
  {
   "cell_type": "code",
   "execution_count": 20,
   "id": "7294cf63",
   "metadata": {},
   "outputs": [],
   "source": [
    "data[[\"fastestLap\"]] = data[[\"fastestLap\"]].fillna(0)\n",
    "data['timetaken_in_millisec'] = data['timetaken_in_millisec'].fillna(data['timetaken_in_millisec'].mean())\n",
    "data['max_speed']= data['max_speed'].fillna(data['max_speed'].mean())\n",
    "data['finish']= data[\"finish\"].fillna(0)"
   ]
  },
  {
   "cell_type": "code",
   "execution_count": 21,
   "id": "3d571b2a",
   "metadata": {},
   "outputs": [
    {
     "data": {
      "text/plain": [
       "resultId                 0.0\n",
       "racerId                  0.0\n",
       "driverId                 0.0\n",
       "constructorId            0.0\n",
       "grid                     0.0\n",
       "finish                   0.0\n",
       "points                   0.0\n",
       "laps                     0.0\n",
       "timetaken_in_millisec    0.0\n",
       "fastestLap               0.0\n",
       "max_speed                0.0\n",
       "statusId                 0.0\n",
       "year                     0.0\n",
       "grand_prix               0.0\n",
       "driverRef                0.0\n",
       "nationality              0.0\n",
       "constructorRef           0.0\n",
       "status                   0.0\n",
       "age                      0.0\n",
       "dtype: float64"
      ]
     },
     "execution_count": 21,
     "metadata": {},
     "output_type": "execute_result"
    }
   ],
   "source": [
    "data.isnull().sum() / len(data) * 100"
   ]
  },
  {
   "cell_type": "code",
   "execution_count": 22,
   "id": "4722bc40",
   "metadata": {},
   "outputs": [
    {
     "data": {
      "text/plain": [
       "(381806, 19)"
      ]
     },
     "execution_count": 22,
     "metadata": {},
     "output_type": "execute_result"
    }
   ],
   "source": [
    "data_fin = data[data['status'] == 'Finished']\n",
    "data_fin.tail()\n",
    "mean = data.max_speed.mean()\n",
    "mean2 = data.fastestLap.mean()\n",
    "data = data_fin[data_fin['max_speed']>mean]\n",
    "\n",
    "data=data[data['fastestLap']>mean2]\n",
    "\n",
    "data = data[data['points']>0]\n",
    "\n",
    "data.shape"
   ]
  },
  {
   "cell_type": "code",
   "execution_count": 23,
   "id": "6b2ca00e",
   "metadata": {},
   "outputs": [
    {
     "data": {
      "text/plain": [
       "resultId                -0.824252\n",
       "racerId                 -0.595592\n",
       "driverId                 0.990641\n",
       "constructorId            1.494122\n",
       "grid                     1.124417\n",
       "finish                   0.386891\n",
       "points                   0.774719\n",
       "laps                     0.285256\n",
       "timetaken_in_millisec    4.443917\n",
       "fastestLap              -0.263259\n",
       "max_speed                0.877538\n",
       "statusId                 0.000000\n",
       "year                    -0.104641\n",
       "age                     -0.059872\n",
       "dtype: float64"
      ]
     },
     "execution_count": 23,
     "metadata": {},
     "output_type": "execute_result"
    }
   ],
   "source": [
    "data.skew()"
   ]
  },
  {
   "cell_type": "code",
   "execution_count": 24,
   "id": "1375177c",
   "metadata": {},
   "outputs": [
    {
     "name": "stdout",
     "output_type": "stream",
     "text": [
      "resultId                -0.348940\n",
      "racerId                 -0.134272\n",
      "driverId                 1.156439\n",
      "constructorId            4.369460\n",
      "grid                     0.856084\n",
      "finish                   0.381237\n",
      "points                   0.960862\n",
      "laps                     0.128440\n",
      "timetaken_in_millisec   -0.477745\n",
      "fastestLap              -0.249842\n",
      "max_speed                0.847488\n",
      "statusId                 0.000000\n",
      "year                     0.274654\n",
      "age                     -0.295317\n",
      "dtype: float64\n",
      "(260289, 19)\n"
     ]
    }
   ],
   "source": [
    "Q1 = data.quantile(0.25)\n",
    "Q3 = data.quantile(0.75)\n",
    "IQR = Q3 - Q1\n",
    "data = data[~((data<(Q1-1.5*IQR)) | (data>(Q3+1.5*IQR))).any(axis=1)]\n",
    "print(data.skew())\n",
    "print(data.shape)"
   ]
  },
  {
   "cell_type": "code",
   "execution_count": 25,
   "id": "339c3b2c",
   "metadata": {},
   "outputs": [
    {
     "data": {
      "image/png": "[encoded data removed]",
      "text/plain": [
       "<Figure size 1700x1200 with 2 Axes>"
      ]
     },
     "metadata": {},
     "output_type": "display_data"
    }
   ],
   "source": [
    "plt.figure(figsize=(17,12))\n",
    "sns.heatmap(data.corr(),annot=True)\n",
    "plt.show()"
   ]
  },
  {
   "cell_type": "code",
   "execution_count": 26,
   "id": "d409014f",
   "metadata": {},
   "outputs": [
    {
     "data": {
      "text/html": [
       "<div>\n",
       "<style scoped>\n",
       "    .dataframe tbody tr th:only-of-type {\n",
       "        vertical-align: middle;\n",
       "    }\n",
       "\n",
       "    .dataframe tbody tr th {\n",
       "        vertical-align: top;\n",
       "    }\n",
       "\n",
       "    .dataframe thead th {\n",
       "        text-align: right;\n",
       "    }\n",
       "</style>\n",
       "<table border=\"1\" class=\"dataframe\">\n",
       "  <thead>\n",
       "    <tr style=\"text-align: right;\">\n",
       "      <th></th>\n",
       "      <th>resultId</th>\n",
       "      <th>racerId</th>\n",
       "      <th>driverId</th>\n",
       "      <th>constructorId</th>\n",
       "      <th>grid</th>\n",
       "      <th>finish</th>\n",
       "      <th>points</th>\n",
       "      <th>laps</th>\n",
       "      <th>timetaken_in_millisec</th>\n",
       "      <th>fastestLap</th>\n",
       "      <th>max_speed</th>\n",
       "      <th>statusId</th>\n",
       "      <th>year</th>\n",
       "      <th>grand_prix</th>\n",
       "      <th>driverRef</th>\n",
       "      <th>nationality</th>\n",
       "      <th>constructorRef</th>\n",
       "      <th>status</th>\n",
       "      <th>age</th>\n",
       "      <th>nationalityN</th>\n",
       "    </tr>\n",
       "  </thead>\n",
       "  <tbody>\n",
       "    <tr>\n",
       "      <th>0</th>\n",
       "      <td>1</td>\n",
       "      <td>18</td>\n",
       "      <td>1</td>\n",
       "      <td>1</td>\n",
       "      <td>1</td>\n",
       "      <td>1.0</td>\n",
       "      <td>10.0</td>\n",
       "      <td>58</td>\n",
       "      <td>5690616.0</td>\n",
       "      <td>39.0</td>\n",
       "      <td>218.3</td>\n",
       "      <td>1</td>\n",
       "      <td>2008</td>\n",
       "      <td>Australian Grand Prix</td>\n",
       "      <td>hamilton</td>\n",
       "      <td>British</td>\n",
       "      <td>mclaren</td>\n",
       "      <td>Finished</td>\n",
       "      <td>38.0</td>\n",
       "      <td>4</td>\n",
       "    </tr>\n",
       "    <tr>\n",
       "      <th>1</th>\n",
       "      <td>1</td>\n",
       "      <td>18</td>\n",
       "      <td>1</td>\n",
       "      <td>1</td>\n",
       "      <td>1</td>\n",
       "      <td>1.0</td>\n",
       "      <td>10.0</td>\n",
       "      <td>58</td>\n",
       "      <td>5690616.0</td>\n",
       "      <td>39.0</td>\n",
       "      <td>218.3</td>\n",
       "      <td>1</td>\n",
       "      <td>2008</td>\n",
       "      <td>Australian Grand Prix</td>\n",
       "      <td>hamilton</td>\n",
       "      <td>British</td>\n",
       "      <td>mclaren</td>\n",
       "      <td>Finished</td>\n",
       "      <td>38.0</td>\n",
       "      <td>4</td>\n",
       "    </tr>\n",
       "    <tr>\n",
       "      <th>2</th>\n",
       "      <td>1</td>\n",
       "      <td>18</td>\n",
       "      <td>1</td>\n",
       "      <td>1</td>\n",
       "      <td>1</td>\n",
       "      <td>1.0</td>\n",
       "      <td>10.0</td>\n",
       "      <td>58</td>\n",
       "      <td>5690616.0</td>\n",
       "      <td>39.0</td>\n",
       "      <td>218.3</td>\n",
       "      <td>1</td>\n",
       "      <td>2008</td>\n",
       "      <td>Australian Grand Prix</td>\n",
       "      <td>hamilton</td>\n",
       "      <td>British</td>\n",
       "      <td>mclaren</td>\n",
       "      <td>Finished</td>\n",
       "      <td>38.0</td>\n",
       "      <td>4</td>\n",
       "    </tr>\n",
       "    <tr>\n",
       "      <th>3</th>\n",
       "      <td>1</td>\n",
       "      <td>18</td>\n",
       "      <td>1</td>\n",
       "      <td>1</td>\n",
       "      <td>1</td>\n",
       "      <td>1.0</td>\n",
       "      <td>10.0</td>\n",
       "      <td>58</td>\n",
       "      <td>5690616.0</td>\n",
       "      <td>39.0</td>\n",
       "      <td>218.3</td>\n",
       "      <td>1</td>\n",
       "      <td>2008</td>\n",
       "      <td>Australian Grand Prix</td>\n",
       "      <td>hamilton</td>\n",
       "      <td>British</td>\n",
       "      <td>mclaren</td>\n",
       "      <td>Finished</td>\n",
       "      <td>38.0</td>\n",
       "      <td>4</td>\n",
       "    </tr>\n",
       "    <tr>\n",
       "      <th>4</th>\n",
       "      <td>1</td>\n",
       "      <td>18</td>\n",
       "      <td>1</td>\n",
       "      <td>1</td>\n",
       "      <td>1</td>\n",
       "      <td>1.0</td>\n",
       "      <td>10.0</td>\n",
       "      <td>58</td>\n",
       "      <td>5690616.0</td>\n",
       "      <td>39.0</td>\n",
       "      <td>218.3</td>\n",
       "      <td>1</td>\n",
       "      <td>2008</td>\n",
       "      <td>Australian Grand Prix</td>\n",
       "      <td>hamilton</td>\n",
       "      <td>British</td>\n",
       "      <td>mclaren</td>\n",
       "      <td>Finished</td>\n",
       "      <td>38.0</td>\n",
       "      <td>4</td>\n",
       "    </tr>\n",
       "  </tbody>\n",
       "</table>\n",
       "</div>"
      ],
      "text/plain": [
       "   resultId  racerId  driverId  constructorId  grid  finish  points  laps  \\\n",
       "0         1       18         1              1     1     1.0    10.0    58   \n",
       "1         1       18         1              1     1     1.0    10.0    58   \n",
       "2         1       18         1              1     1     1.0    10.0    58   \n",
       "3         1       18         1              1     1     1.0    10.0    58   \n",
       "4         1       18         1              1     1     1.0    10.0    58   \n",
       "\n",
       "   timetaken_in_millisec  fastestLap  max_speed  statusId  year  \\\n",
       "0              5690616.0        39.0      218.3         1  2008   \n",
       "1              5690616.0        39.0      218.3         1  2008   \n",
       "2              5690616.0        39.0      218.3         1  2008   \n",
       "3              5690616.0        39.0      218.3         1  2008   \n",
       "4              5690616.0        39.0      218.3         1  2008   \n",
       "\n",
       "              grand_prix driverRef nationality constructorRef    status   age  \\\n",
       "0  Australian Grand Prix  hamilton     British        mclaren  Finished  38.0   \n",
       "1  Australian Grand Prix  hamilton     British        mclaren  Finished  38.0   \n",
       "2  Australian Grand Prix  hamilton     British        mclaren  Finished  38.0   \n",
       "3  Australian Grand Prix  hamilton     British        mclaren  Finished  38.0   \n",
       "4  Australian Grand Prix  hamilton     British        mclaren  Finished  38.0   \n",
       "\n",
       "   nationalityN  \n",
       "0             4  \n",
       "1             4  \n",
       "2             4  \n",
       "3             4  \n",
       "4             4  "
      ]
     },
     "execution_count": 26,
     "metadata": {},
     "output_type": "execute_result"
    }
   ],
   "source": [
    "from sklearn.preprocessing import LabelEncoder\n",
    "le = LabelEncoder()\n",
    "data[\"nationalityN\"] = le.fit_transform(data[\"nationality\"])\n",
    "data.head()"
   ]
  },
  {
   "cell_type": "code",
   "execution_count": 27,
   "id": "43c1f1e2",
   "metadata": {},
   "outputs": [
    {
     "name": "stdout",
     "output_type": "stream",
     "text": [
      "        driverRef  driverId\n",
      "0        hamilton         1\n",
      "26124      alonso         4\n",
      "38759  kovalainen         5\n",
      "41665   raikkonen         8\n",
      "59668   coulthard        14\n",
      "       nationality  nationalityN\n",
      "0          British             4\n",
      "26124      Spanish            20\n",
      "38759      Finnish            10\n",
      "107910    Austrian             1\n",
      "107999   Colombian             7\n",
      "     status  statusId\n",
      "0  Finished         1\n",
      "       constructorRef  constructorId\n",
      "0             mclaren              1\n",
      "304822     bmw_sauber              2\n",
      "319114       williams              3\n",
      "456793         sauber             15\n",
      "488360        renault              4\n",
      "                 grand_prix  racerId  year  laps\n",
      "0     Australian Grand Prix       18  2008    58\n",
      "311    Malaysian Grand Prix       19  2008    56\n",
      "622      Spanish Grand Prix       21  2008    66\n",
      "933      Turkish Grand Prix       22  2008    58\n",
      "2177      German Grand Prix       27  2008    67\n"
     ]
    }
   ],
   "source": [
    "dataNombres = data.loc[:,['driverRef','driverId']]\n",
    "dataNombres=dataNombres.drop_duplicates()\n",
    "dataNacionalidades= data.loc[:,['nationality','nationalityN']]\n",
    "dataNacionalidades= dataNacionalidades.drop_duplicates()\n",
    "dataStatus= data.loc[:,['status','statusId']]\n",
    "dataStatus= dataStatus.drop_duplicates()\n",
    "dataEquipos=data.loc[:,['constructorRef','constructorId']]\n",
    "dataEquipos= dataEquipos.drop_duplicates()\n",
    "dataGP = data.loc[:,['grand_prix',\"racerId\",\"year\",\"laps\"]]\n",
    "dataGP= dataGP.drop_duplicates()\n",
    "print(dataNombres.head())\n",
    "print(dataNacionalidades.head())\n",
    "print(dataStatus.head())\n",
    "print(dataEquipos.head())\n",
    "print(dataGP.head())"
   ]
  },
  {
   "cell_type": "code",
   "execution_count": 28,
   "id": "5b75623b",
   "metadata": {},
   "outputs": [],
   "source": [
    "output = pd.DataFrame({\"resultId\":data.resultId,\"racerId\":data.racerId,\"driverId\":data.driverId,\n",
    "                       \"constructorId\":data.constructorId,\"grid\":data.grid,\"finish\":data.finish,\n",
    "                       \"points\":data.points,\"laps\":data.laps,\"timetaken_in_millisec\":data.timetaken_in_millisec,\n",
    "                       \"fastestLap\":data.fastestLap,\"max_speed\":data.max_speed,\"statusId\":data.statusId,\n",
    "                       \"year\":data.year,\"grand_prix\":data.grand_prix,\"driverRef\":data.driverRef,\n",
    "                       \"nationality\":data.nationality,\"constructorRef\":data.constructorRef,\n",
    "                       \"status\":data.status,\"age\":data.age,\"nationalityN\":data.nationalityN})\n",
    "\n",
    "\n",
    "\n",
    "output2 = pd.DataFrame({\"driverRef\":dataNombres.driverRef,\"driverId\":dataNombres.driverId})\n",
    "output3 = pd.DataFrame({\"nationality\":dataNacionalidades.nationality,\"nationalityN\":dataNacionalidades.nationalityN})\n",
    "output4= pd.DataFrame({\"status\":dataStatus.status,\"statusId\":dataStatus.statusId})\n",
    "output5 = pd.DataFrame({\"constructorRef\":dataEquipos.constructorRef,\"constructorId\":dataEquipos.constructorId})\n",
    "output6= pd.DataFrame({\"grand_prix\":dataGP.grand_prix,\"racerId\":dataGP.racerId,\"year\":dataGP.year,\"laps\":dataGP.laps})\n",
    "\n",
    "output.to_csv('data.csv',index=False)\n",
    "output2.to_csv('dataNombres.csv',index=False)\n",
    "output3.to_csv('dataNacionalidades.csv',index=False)\n",
    "output4.to_csv('dataStatus.csv',index=False)\n",
    "output5.to_csv('dataEquipos.csv',index=False)\n",
    "output6.to_csv('dataGP.csv',index=False)"
   ]
  },
  {
   "cell_type": "code",
   "execution_count": 29,
   "id": "7d065a5b",
   "metadata": {},
   "outputs": [],
   "source": [
    "X= data[[\"racerId\",\"constructorId\",\"grid\",\"finish\",\"points\",\"laps\",\"timetaken_in_millisec\",\"fastestLap\",\"max_speed\",\"statusId\",\"year\",\"age\",\"nationalityN\"]]\n",
    "y= data['driverId']\n"
   ]
  },
  {
   "cell_type": "code",
   "execution_count": 30,
   "id": "14bbac8a",
   "metadata": {},
   "outputs": [],
   "source": [
    "from sklearn.model_selection import train_test_split\n",
    "xtrain, xtest, ytrain, ytest = train_test_split(X, y,test_size=0.4,random_state=42)"
   ]
  },
  {
   "cell_type": "code",
   "execution_count": 31,
   "id": "14ec3303",
   "metadata": {},
   "outputs": [],
   "source": [
    "from sklearn.model_selection import GridSearchCV\n",
    "\n",
    "from sklearn.ensemble import RandomForestClassifier\n",
    "from sklearn.neighbors import KNeighborsClassifier\n",
    "from sklearn.tree import DecisionTreeClassifier"
   ]
  },
  {
   "cell_type": "code",
   "execution_count": 32,
   "id": "6fa775c5",
   "metadata": {},
   "outputs": [
    {
     "name": "stdout",
     "output_type": "stream",
     "text": [
      "-----\n",
      "Best parameters DecisionTreeClassifier(class_weight='balanced', max_depth=13, random_state=42)\n",
      "Mean cross-validated accuracy score of the best_estimator: 0.929\n",
      "-----\n"
     ]
    }
   ],
   "source": [
    "cross_valid_scores = {}\n",
    "parameters=  {\n",
    "     \"max_depth\" : [3, 5, 7, 9, 11, 13],\n",
    "}\n",
    "\n",
    "model_desicion_tree = DecisionTreeClassifier(\n",
    "    random_state=42,\n",
    "    class_weight='balanced',\n",
    ")\n",
    "\n",
    "model_desicion_tree = GridSearchCV(\n",
    "    model_desicion_tree, \n",
    "    parameters, \n",
    "    cv=5,\n",
    "    scoring='accuracy',\n",
    ")\n",
    "\n",
    "model_desicion_tree.fit(xtrain, ytrain)\n",
    "\n",
    "print('-----')\n",
    "print(f'Best parameters {model_desicion_tree.best_estimator_}')\n",
    "print(\n",
    "    f'Mean cross-validated accuracy score of the best_estimator: ' + \\\n",
    "    f'{model_desicion_tree.best_score_:.3f}'\n",
    ")\n",
    "cross_valid_scores['desicion_tree'] = model_desicion_tree.best_score_\n",
    "print('-----')"
   ]
  },
  {
   "cell_type": "code",
   "execution_count": 33,
   "id": "1bb828f9",
   "metadata": {},
   "outputs": [
    {
     "name": "stdout",
     "output_type": "stream",
     "text": [
      "-----\n",
      "Best parameters RandomForestClassifier(class_weight='balanced', max_depth=13, n_estimators=25,\n",
      "                       random_state=42)\n",
      "Mean cross-validated accuracy score of the best_estimator: 0.997\n",
      "-----\n"
     ]
    }
   ],
   "source": [
    "from sklearn.model_selection import GridSearchCV\n",
    "parameters = {\n",
    "    \"n_estimators\": [5, 10, 15, 20, 25], \n",
    "    \"max_depth\": [3, 5, 7, 9, 11, 13],\n",
    "}\n",
    "\n",
    "model_random_forest = RandomForestClassifier(\n",
    "    random_state=42,\n",
    "    class_weight='balanced',\n",
    ")\n",
    "\n",
    "model_random_forest = GridSearchCV(\n",
    "    model_random_forest, \n",
    "    parameters, \n",
    "    cv=5,\n",
    "    scoring='accuracy',\n",
    ")\n",
    "\n",
    "model_random_forest.fit(xtrain, ytrain)\n",
    "\n",
    "print('-----')\n",
    "print(f'Best parameters {model_random_forest.best_estimator_}')\n",
    "print(\n",
    "    f'Mean cross-validated accuracy score of the best_estimator: '+ \\\n",
    "    f'{model_random_forest.best_score_:.3f}'\n",
    ")\n",
    "cross_valid_scores['random_forest'] = model_random_forest.best_score_\n",
    "print('-----')"
   ]
  },
  {
   "cell_type": "code",
   "execution_count": 34,
   "id": "8fb8e3ec",
   "metadata": {},
   "outputs": [
    {
     "name": "stdout",
     "output_type": "stream",
     "text": [
      "-----\n",
      "Best parameters {'weights': 'uniform'}\n",
      "Mean cross-validated accuracy score of the best_estimator: 1.000\n",
      "-----\n"
     ]
    }
   ],
   "source": [
    "from sklearn.model_selection import GridSearchCV\n",
    "parameters = {\n",
    "            \"weights\": [\"uniform\", \"distance\"],\n",
    "              \n",
    "              }\n",
    "\n",
    "\n",
    "model_k_neighbors = KNeighborsClassifier(\n",
    ")\n",
    "\n",
    "model_k_neighbors = GridSearchCV(\n",
    "    model_k_neighbors, \n",
    "    parameters, \n",
    "    cv=5,\n",
    "    scoring='accuracy',\n",
    ")\n",
    "\n",
    "model_k_neighbors.fit(xtrain, ytrain)\n",
    "\n",
    "print('-----')\n",
    "print(f'Best parameters {model_k_neighbors.best_params_}')\n",
    "print(\n",
    "    f'Mean cross-validated accuracy score of the best_estimator: ' + \n",
    "    f'{model_k_neighbors.best_score_:.3f}'\n",
    ")\n",
    "cross_valid_scores['k_neighbors'] = model_k_neighbors.best_score_\n",
    "print('-----')"
   ]
  },
  {
   "cell_type": "code",
   "execution_count": 35,
   "id": "812edb2d",
   "metadata": {},
   "outputs": [
    {
     "name": "stdout",
     "output_type": "stream",
     "text": [
      "Fold:1, Train set: 208231, Test set:52058\n",
      "Fold:2, Train set: 208231, Test set:52058\n",
      "Fold:3, Train set: 208231, Test set:52058\n",
      "Fold:4, Train set: 208231, Test set:52058\n",
      "Fold:5, Train set: 208232, Test set:52057\n"
     ]
    }
   ],
   "source": [
    "from sklearn.model_selection import KFold, StratifiedKFold, cross_val_score\n",
    "kf = StratifiedKFold(n_splits=5, shuffle=True, random_state=42)\n",
    "\n",
    "cnt = 1\n",
    "\n",
    "for train_index, test_index in kf.split(X, y):\n",
    "    print(f'Fold:{cnt}, Train set: {len(train_index)}, Test set:{len(test_index)}')\n",
    "    cnt+=1"
   ]
  },
  {
   "cell_type": "code",
   "execution_count": 36,
   "id": "60ef754e",
   "metadata": {},
   "outputs": [
    {
     "name": "stdout",
     "output_type": "stream",
     "text": [
      "Scores for each fold are: [1.         0.99517845 0.99556264 0.9952745  0.99659988]\n",
      "Average score: 1.00\n"
     ]
    }
   ],
   "source": [
    "score = cross_val_score(RandomForestClassifier(class_weight='balanced', max_depth=13, n_estimators=20,\n",
    "                       random_state=42), X, y, cv= kf, scoring=\"accuracy\")\n",
    "print(f'Scores for each fold are: {score}')\n",
    "print(f'Average score: {\"{:.2f}\".format(score.mean())}')"
   ]
  },
  {
   "cell_type": "code",
   "execution_count": 37,
   "id": "bf373edd",
   "metadata": {},
   "outputs": [
    {
     "name": "stdout",
     "output_type": "stream",
     "text": [
      "Scores for each fold are: [1. 1. 1. 1. 1.]\n",
      "Average score: 1.00\n"
     ]
    }
   ],
   "source": [
    "score = cross_val_score(KNeighborsClassifier(weights='distance'), X, y, cv= kf, scoring=\"accuracy\")\n",
    "print(f'Scores for each fold are: {score}')\n",
    "print(f'Average score: {\"{:.2f}\".format(score.mean())}')"
   ]
  },
  {
   "cell_type": "code",
   "execution_count": 38,
   "id": "141ca4ed",
   "metadata": {},
   "outputs": [
    {
     "name": "stdout",
     "output_type": "stream",
     "text": [
      "Scores for each fold are: [0.58402167 0.58404088 0.70555918 0.66018671 0.89993661]\n",
      "Average score: 0.69\n"
     ]
    }
   ],
   "source": [
    "score = cross_val_score(DecisionTreeClassifier(class_weight='balanced', max_depth=13, random_state=42), X, y, cv= kf, scoring=\"accuracy\")\n",
    "print(f'Scores for each fold are: {score}')\n",
    "print(f'Average score: {\"{:.2f}\".format(score.mean())}')"
   ]
  },
  {
   "cell_type": "code",
   "execution_count": 39,
   "id": "12aa21de",
   "metadata": {},
   "outputs": [],
   "source": [
    "from sklearn.metrics import classification_report\n",
    "dt = DecisionTreeClassifier(class_weight='balanced', max_depth=13, random_state=42)\n",
    "rn = RandomForestClassifier(class_weight='balanced', max_depth=13, n_estimators=20,\n",
    "                       random_state=42)\n",
    "knn = KNeighborsClassifier(weights='distance')"
   ]
  },
  {
   "cell_type": "code",
   "execution_count": 40,
   "id": "7bb20617",
   "metadata": {},
   "outputs": [],
   "source": [
    "from sklearn.model_selection import train_test_split\n",
    "xtrain, xtest, ytrain, ytest = train_test_split(X, y,test_size=0.99,random_state=42)"
   ]
  },
  {
   "cell_type": "code",
   "execution_count": 41,
   "id": "4693c2de",
   "metadata": {},
   "outputs": [
    {
     "name": "stdout",
     "output_type": "stream",
     "text": [
      "8.215192317962646\n",
      "              precision    recall  f1-score   support\n",
      "\n",
      "           1       1.00      1.00      1.00     11083\n",
      "           2       1.00      1.00      1.00      4999\n",
      "           3       1.00      1.00      1.00      2645\n",
      "           4       1.00      1.00      1.00     30019\n",
      "           5       1.00      1.00      1.00      1541\n",
      "           7       1.00      1.00      1.00        70\n",
      "           8       1.00      1.00      1.00     31415\n",
      "           9       1.00      1.00      1.00      1983\n",
      "          10       1.00      1.00      1.00       202\n",
      "          11       1.00      1.00      1.00       736\n",
      "          12       1.00      1.00      1.00        99\n",
      "          13       1.00      1.00      1.00     19038\n",
      "          14       1.00      1.00      1.00      1897\n",
      "          15       1.00      1.00      1.00      3706\n",
      "          16       1.00      1.00      1.00      1125\n",
      "          17       1.00      1.00      1.00     10499\n",
      "          18       1.00      1.00      1.00     18440\n",
      "          20       1.00      1.00      1.00     25156\n",
      "          21       1.00      1.00      1.00      5437\n",
      "          22       1.00      1.00      1.00      7938\n",
      "          23       1.00      1.00      1.00      2514\n",
      "          24       1.00      1.00      1.00       277\n",
      "          25       1.00      1.00      1.00        88\n",
      "          30       1.00      1.00      1.00      8049\n",
      "          31       1.00      1.00      1.00      1700\n",
      "          32       1.00      1.00      1.00       353\n",
      "          35       1.00      1.00      1.00       618\n",
      "          37       1.00      1.00      1.00       538\n",
      "          42       1.00      1.00      1.00        25\n",
      "          44       1.00      1.00      1.00       305\n",
      "          67       1.00      1.00      1.00       217\n",
      "         153       1.00      1.00      1.00        45\n",
      "         155       1.00      1.00      1.00       617\n",
      "         807       1.00      1.00      1.00      7272\n",
      "         808       1.00      1.00      1.00       230\n",
      "         811       1.00      1.00      1.00       140\n",
      "         813       1.00      1.00      1.00        94\n",
      "         814       1.00      1.00      1.00       337\n",
      "         815       1.00      1.00      1.00     12118\n",
      "         817       1.00      1.00      1.00     11722\n",
      "         818       1.00      1.00      1.00        56\n",
      "         821       1.00      1.00      1.00        59\n",
      "         822       1.00      1.00      1.00      3598\n",
      "         825       1.00      1.00      1.00       797\n",
      "         826       1.00      1.00      1.00       809\n",
      "         828       1.00      1.00      1.00       197\n",
      "         830       1.00      1.00      1.00     11544\n",
      "         831       1.00      1.00      1.00        80\n",
      "         832       1.00      1.00      1.00      5043\n",
      "         838       1.00      1.00      1.00        60\n",
      "         839       1.00      1.00      1.00      1778\n",
      "         840       1.00      1.00      1.00       123\n",
      "         841       1.00      1.00      1.00       235\n",
      "         842       1.00      1.00      1.00       870\n",
      "         843       1.00      1.00      1.00        24\n",
      "         844       1.00      1.00      1.00      4329\n",
      "         846       1.00      1.00      1.00      1973\n",
      "         847       1.00      1.00      1.00       164\n",
      "         848       1.00      1.00      1.00       607\n",
      "         855       1.00      1.00      1.00        46\n",
      "         856       1.00      1.00      1.00         8\n",
      "\n",
      "    accuracy                           1.00    257687\n",
      "   macro avg       1.00      1.00      1.00    257687\n",
      "weighted avg       1.00      1.00      1.00    257687\n",
      "\n"
     ]
    },
    {
     "data": {
      "text/plain": [
       "raikkonen          31415\n",
       "alonso             30019\n",
       "vettel             25156\n",
       "massa              19038\n",
       "button             18440\n",
       "                   ...  \n",
       "zhou                  46\n",
       "alguersuari           45\n",
       "pizzonia              25\n",
       "brendon_hartley       24\n",
       "de_vries               8\n",
       "Name: driverRef, Length: 61, dtype: int64"
      ]
     },
     "execution_count": 41,
     "metadata": {},
     "output_type": "execute_result"
    }
   ],
   "source": [
    "inicio= time.time()\n",
    "knn.fit(X,y)\n",
    "ypred= knn.predict(xtest)\n",
    "fin= time.time()\n",
    "print(fin-inicio)\n",
    "print(classification_report(ypred, ytest))\n",
    "data3= pd.DataFrame(ypred)\n",
    "data3.head()\n",
    "data3.rename(columns={0:\"driverId\"},inplace=True)\n",
    "data3.head()\n",
    "m1= pd.merge(data3,dataNombres, on=\"driverId\")\n",
    "m1.shape\n",
    "m1.head()\n",
    "m1[\"driverRef\"].value_counts()"
   ]
  },
  {
   "cell_type": "code",
   "execution_count": 42,
   "id": "a1866b93",
   "metadata": {},
   "outputs": [
    {
     "name": "stdout",
     "output_type": "stream",
     "text": [
      "7.495547533035278\n",
      "              precision    recall  f1-score   support\n",
      "\n",
      "           1       1.00      1.00      1.00     11083\n",
      "           2       1.00      1.00      1.00      4999\n",
      "           3       1.00      1.00      1.00      2645\n",
      "           4       1.00      1.00      1.00     30019\n",
      "           5       1.00      1.00      1.00      1541\n",
      "           7       1.00      1.00      1.00        70\n",
      "           8       1.00      1.00      1.00     31415\n",
      "           9       1.00      1.00      1.00      1983\n",
      "          10       1.00      1.00      1.00       202\n",
      "          11       1.00      1.00      1.00       736\n",
      "          12       1.00      1.00      1.00        99\n",
      "          13       1.00      1.00      1.00     19038\n",
      "          14       1.00      1.00      1.00      1897\n",
      "          15       1.00      1.00      1.00      3706\n",
      "          16       1.00      1.00      1.00      1125\n",
      "          17       1.00      1.00      1.00     10499\n",
      "          18       1.00      1.00      1.00     18440\n",
      "          20       0.98      1.00      0.99     24567\n",
      "          21       1.00      1.00      1.00      5437\n",
      "          22       1.00      1.00      1.00      7938\n",
      "          23       1.00      1.00      1.00      2514\n",
      "          24       1.00      1.00      1.00       277\n",
      "          25       1.00      1.00      1.00        88\n",
      "          30       1.00      1.00      1.00      8049\n",
      "          31       1.00      1.00      1.00      1700\n",
      "          32       1.00      1.00      1.00       353\n",
      "          35       1.00      1.00      1.00       618\n",
      "          37       1.00      1.00      1.00       538\n",
      "          42       1.00      1.00      1.00        25\n",
      "          44       1.00      1.00      1.00       305\n",
      "          67       1.00      1.00      1.00       217\n",
      "         153       1.00      1.00      1.00        45\n",
      "         155       1.00      1.00      1.00       617\n",
      "         807       1.00      0.93      0.96      7861\n",
      "         808       1.00      1.00      1.00       230\n",
      "         811       1.00      1.00      1.00       140\n",
      "         813       1.00      1.00      1.00        94\n",
      "         814       1.00      1.00      1.00       337\n",
      "         815       1.00      1.00      1.00     12118\n",
      "         817       1.00      1.00      1.00     11722\n",
      "         818       1.00      1.00      1.00        56\n",
      "         821       1.00      1.00      1.00        59\n",
      "         822       1.00      1.00      1.00      3598\n",
      "         825       1.00      1.00      1.00       797\n",
      "         826       1.00      1.00      1.00       809\n",
      "         828       1.00      1.00      1.00       197\n",
      "         830       1.00      1.00      1.00     11544\n",
      "         831       1.00      1.00      1.00        80\n",
      "         832       1.00      1.00      1.00      5043\n",
      "         838       1.00      1.00      1.00        60\n",
      "         839       1.00      1.00      1.00      1778\n",
      "         840       1.00      1.00      1.00       123\n",
      "         841       1.00      1.00      1.00       235\n",
      "         842       1.00      1.00      1.00       870\n",
      "         843       1.00      1.00      1.00        24\n",
      "         844       1.00      1.00      1.00      4329\n",
      "         846       1.00      1.00      1.00      1973\n",
      "         847       1.00      1.00      1.00       164\n",
      "         848       1.00      1.00      1.00       607\n",
      "         855       1.00      1.00      1.00        46\n",
      "         856       1.00      1.00      1.00         8\n",
      "\n",
      "    accuracy                           1.00    257687\n",
      "   macro avg       1.00      1.00      1.00    257687\n",
      "weighted avg       1.00      1.00      1.00    257687\n",
      "\n"
     ]
    },
    {
     "data": {
      "text/plain": [
       "raikkonen          31415\n",
       "alonso             30019\n",
       "vettel             24567\n",
       "massa              19038\n",
       "button             18440\n",
       "                   ...  \n",
       "zhou                  46\n",
       "alguersuari           45\n",
       "pizzonia              25\n",
       "brendon_hartley       24\n",
       "de_vries               8\n",
       "Name: driverRef, Length: 61, dtype: int64"
      ]
     },
     "execution_count": 42,
     "metadata": {},
     "output_type": "execute_result"
    }
   ],
   "source": [
    "inicio= time.time()\n",
    "rn.fit(X,y)\n",
    "ypred= rn.predict(xtest)\n",
    "fin= time.time()\n",
    "print(fin-inicio)\n",
    "print(classification_report(ypred, ytest))\n",
    "data3= pd.DataFrame(ypred)\n",
    "data3.head()\n",
    "data3.rename(columns={0:\"driverId\"},inplace=True)\n",
    "data3.head()\n",
    "m1= pd.merge(data3,dataNombres, on=\"driverId\")\n",
    "m1.shape\n",
    "m1.head()\n",
    "m1[\"driverRef\"].value_counts()"
   ]
  },
  {
   "cell_type": "code",
   "execution_count": 43,
   "id": "6919b361",
   "metadata": {},
   "outputs": [
    {
     "name": "stdout",
     "output_type": "stream",
     "text": [
      "1.0670750141143799\n",
      "              precision    recall  f1-score   support\n",
      "\n",
      "           1       1.00      0.86      0.92     12957\n",
      "           2       0.00      0.00      0.00         0\n",
      "           3       1.00      1.00      1.00      2645\n",
      "           4       1.00      1.00      1.00     30019\n",
      "           5       1.00      1.00      1.00      1541\n",
      "           7       0.00      0.00      0.00         0\n",
      "           8       1.00      0.86      0.93     36484\n",
      "           9       1.00      1.00      1.00      1983\n",
      "          10       1.00      1.00      1.00       202\n",
      "          11       1.00      1.00      1.00       736\n",
      "          12       0.00      0.00      0.00         0\n",
      "          13       1.00      1.00      1.00     19038\n",
      "          14       1.00      1.00      1.00      1897\n",
      "          15       1.00      1.00      1.00      3706\n",
      "          16       1.00      1.00      1.00      1125\n",
      "          17       1.00      1.00      1.00     10499\n",
      "          18       1.00      1.00      1.00     18440\n",
      "          20       0.89      0.99      0.94     22706\n",
      "          21       1.00      1.00      1.00      5437\n",
      "          22       1.00      1.00      1.00      7938\n",
      "          23       1.00      1.00      1.00      2514\n",
      "          24       1.00      1.00      1.00       277\n",
      "          25       1.00      1.00      1.00        88\n",
      "          30       1.00      1.00      1.00      8049\n",
      "          31       1.00      1.00      1.00      1700\n",
      "          32       0.00      0.00      0.00         0\n",
      "          35       1.00      1.00      1.00       618\n",
      "          37       1.00      1.00      1.00       538\n",
      "          42       1.00      1.00      1.00        25\n",
      "          44       1.00      1.00      1.00       305\n",
      "          67       1.00      1.00      1.00       217\n",
      "         153       1.00      1.00      1.00        45\n",
      "         155       1.00      1.00      1.00       617\n",
      "         807       0.97      0.73      0.83      9722\n",
      "         808       1.00      1.00      1.00       230\n",
      "         811       0.00      0.00      0.00         0\n",
      "         813       1.00      1.00      1.00        94\n",
      "         814       0.00      0.00      0.00         0\n",
      "         815       1.00      1.00      1.00     12118\n",
      "         817       1.00      1.00      1.00     11722\n",
      "         818       1.00      1.00      1.00        56\n",
      "         821       1.00      1.00      1.00        59\n",
      "         822       1.00      1.00      1.00      3598\n",
      "         825       0.00      0.00      0.00         0\n",
      "         826       1.00      1.00      1.00       809\n",
      "         828       1.00      1.00      1.00       197\n",
      "         830       1.00      0.84      0.91     13804\n",
      "         831       0.00      0.00      0.00         0\n",
      "         832       1.00      1.00      1.00      5043\n",
      "         838       0.00      0.00      0.00         0\n",
      "         839       0.69      1.00      0.81      1221\n",
      "         840       0.00      0.00      0.00         0\n",
      "         841       1.00      1.00      1.00       235\n",
      "         842       1.00      0.61      0.76      1427\n",
      "         843       1.00      1.00      1.00        24\n",
      "         844       1.00      1.00      1.00      4329\n",
      "         846       0.00      0.00      0.00         0\n",
      "         847       0.00      0.00      0.00         0\n",
      "         848       1.00      1.00      1.00       607\n",
      "         855       1.00      1.00      1.00        46\n",
      "         856       0.00      0.00      0.00         0\n",
      "\n",
      "    accuracy                           0.95    257687\n",
      "   macro avg       0.78      0.77      0.77    257687\n",
      "weighted avg       0.99      0.95      0.97    257687\n",
      "\n"
     ]
    },
    {
     "data": {
      "text/plain": [
       "raikkonen             36484\n",
       "alonso                30019\n",
       "vettel                22706\n",
       "massa                 19038\n",
       "button                18440\n",
       "max_verstappen        13804\n",
       "hamilton              12957\n",
       "perez                 12118\n",
       "ricciardo             11722\n",
       "webber                10499\n",
       "hulkenberg             9722\n",
       "michael_schumacher     8049\n",
       "barrichello            7938\n",
       "fisichella             5437\n",
       "sainz                  5043\n",
       "leclerc                4329\n",
       "trulli                 3706\n",
       "bottas                 3598\n",
       "rosberg                2645\n",
       "ralf_schumacher        2514\n",
       "kubica                 1983\n",
       "coulthard              1897\n",
       "montoya                1700\n",
       "kovalainen             1541\n",
       "gasly                  1427\n",
       "ocon                   1221\n",
       "sutil                  1125\n",
       "kvyat                   809\n",
       "sato                    736\n",
       "villeneuve              618\n",
       "kobayashi               617\n",
       "albon                   607\n",
       "rosa                    538\n",
       "panis                   305\n",
       "liuzzi                  277\n",
       "giovinazzi              235\n",
       "petrov                  230\n",
       "buemi                   217\n",
       "glock                   202\n",
       "ericsson                197\n",
       "maldonado                94\n",
       "wurz                     88\n",
       "gutierrez                59\n",
       "vergne                   56\n",
       "zhou                     46\n",
       "alguersuari              45\n",
       "pizzonia                 25\n",
       "brendon_hartley          24\n",
       "Name: driverRef, dtype: int64"
      ]
     },
     "execution_count": 43,
     "metadata": {},
     "output_type": "execute_result"
    }
   ],
   "source": [
    "inicio= time.time()\n",
    "dt.fit(X,y)\n",
    "ypred= dt.predict(xtest)\n",
    "fin= time.time()\n",
    "print(fin-inicio)\n",
    "print(classification_report(ypred, ytest))\n",
    "data3= pd.DataFrame(ypred)\n",
    "data3.head()\n",
    "data3.rename(columns={0:\"driverId\"},inplace=True)\n",
    "data3.head()\n",
    "m1= pd.merge(data3,dataNombres, on=\"driverId\")\n",
    "m1.shape\n",
    "m1.head()\n",
    "m1[\"driverRef\"].value_counts()"
   ]
  },
  {
   "cell_type": "code",
   "execution_count": 44,
   "id": "0374b6ee",
   "metadata": {},
   "outputs": [
    {
     "data": {
      "text/plain": [
       "['rnDriver.joblib']"
      ]
     },
     "execution_count": 44,
     "metadata": {},
     "output_type": "execute_result"
    }
   ],
   "source": [
    "import joblib\n",
    "\n",
    "joblib.dump(rn, \"rnDriver.joblib\")"
   ]
  },
  {
   "cell_type": "code",
   "execution_count": 45,
   "id": "9b56744d",
   "metadata": {},
   "outputs": [],
   "source": [
    "X1= data[['driverId',\"racerId\",\"constructorId\",\"grid\",\"finish\",\"laps\",\"timetaken_in_millisec\",\"fastestLap\",\"max_speed\",\"statusId\",\"year\",\"age\",\"nationalityN\"]]\n",
    "y1= data[\"points\"]"
   ]
  },
  {
   "cell_type": "code",
   "execution_count": 46,
   "id": "03b8a789",
   "metadata": {},
   "outputs": [],
   "source": [
    "from sklearn.model_selection import train_test_split\n",
    "xtrain1, xtest1, ytrain1, ytest1 = train_test_split(X1, y1,test_size=0.4,random_state=42)"
   ]
  },
  {
   "cell_type": "code",
   "execution_count": 47,
   "id": "ea98a96c",
   "metadata": {},
   "outputs": [],
   "source": [
    "from sklearn.model_selection import GridSearchCV\n",
    "\n",
    "from sklearn.ensemble import RandomForestClassifier\n",
    "from sklearn.neighbors import KNeighborsClassifier\n",
    "from sklearn.tree import DecisionTreeClassifier"
   ]
  },
  {
   "cell_type": "code",
   "execution_count": 48,
   "id": "9b5d0723",
   "metadata": {},
   "outputs": [
    {
     "name": "stdout",
     "output_type": "stream",
     "text": [
      "-----\n",
      "Best parameters DecisionTreeClassifier(class_weight='balanced', max_depth=13, random_state=42)\n",
      "Mean cross-validated accuracy score of the best_estimator: 1.000\n",
      "-----\n"
     ]
    }
   ],
   "source": [
    "cross_valid_scores = {}\n",
    "parameters=  {\n",
    "     \"max_depth\" : [3, 5, 7, 9, 11, 13],\n",
    "}\n",
    "\n",
    "model_desicion_tree = DecisionTreeClassifier(\n",
    "    random_state=42,\n",
    "    class_weight='balanced',\n",
    ")\n",
    "\n",
    "model_desicion_tree = GridSearchCV(\n",
    "    model_desicion_tree, \n",
    "    parameters, \n",
    "    cv=5,\n",
    "    scoring='accuracy',\n",
    ")\n",
    "\n",
    "model_desicion_tree.fit(xtrain1, ytrain1)\n",
    "\n",
    "print('-----')\n",
    "print(f'Best parameters {model_desicion_tree.best_estimator_}')\n",
    "print(\n",
    "    f'Mean cross-validated accuracy score of the best_estimator: ' + \\\n",
    "    f'{model_desicion_tree.best_score_:.3f}'\n",
    ")\n",
    "cross_valid_scores['desicion_tree'] = model_desicion_tree.best_score_\n",
    "print('-----')"
   ]
  },
  {
   "cell_type": "code",
   "execution_count": 49,
   "id": "7c85c33c",
   "metadata": {},
   "outputs": [
    {
     "name": "stdout",
     "output_type": "stream",
     "text": [
      "-----\n",
      "Best parameters RandomForestClassifier(class_weight='balanced', max_depth=13, n_estimators=15,\n",
      "                       random_state=42)\n",
      "Mean cross-validated accuracy score of the best_estimator: 1.000\n",
      "-----\n"
     ]
    }
   ],
   "source": [
    "from sklearn.model_selection import GridSearchCV\n",
    "parameters = {\n",
    "    \"n_estimators\": [5, 10, 15, 20, 25], \n",
    "    \"max_depth\": [3, 5, 7, 9, 11, 13],\n",
    "}\n",
    "\n",
    "model_random_forest = RandomForestClassifier(\n",
    "    random_state=42,\n",
    "    class_weight='balanced',\n",
    ")\n",
    "\n",
    "model_random_forest = GridSearchCV(\n",
    "    model_random_forest, \n",
    "    parameters, \n",
    "    cv=5,\n",
    "    scoring='accuracy',\n",
    ")\n",
    "\n",
    "model_random_forest.fit(xtrain1, ytrain1)\n",
    "\n",
    "print('-----')\n",
    "print(f'Best parameters {model_random_forest.best_estimator_}')\n",
    "print(\n",
    "    f'Mean cross-validated accuracy score of the best_estimator: '+ \\\n",
    "    f'{model_random_forest.best_score_:.3f}'\n",
    ")\n",
    "cross_valid_scores['random_forest'] = model_random_forest.best_score_\n",
    "print('-----')"
   ]
  },
  {
   "cell_type": "code",
   "execution_count": 50,
   "id": "072138cf",
   "metadata": {},
   "outputs": [
    {
     "name": "stdout",
     "output_type": "stream",
     "text": [
      "-----\n",
      "Best parameters {'weights': 'uniform'}\n",
      "Mean cross-validated accuracy score of the best_estimator: 1.000\n",
      "-----\n"
     ]
    }
   ],
   "source": [
    "from sklearn.model_selection import GridSearchCV\n",
    "parameters = {\n",
    "            \"weights\": [\"uniform\", \"distance\"],\n",
    "              \n",
    "              }\n",
    "\n",
    "\n",
    "model_k_neighbors = KNeighborsClassifier(\n",
    ")\n",
    "\n",
    "model_k_neighbors = GridSearchCV(\n",
    "    model_k_neighbors, \n",
    "    parameters, \n",
    "    cv=5,\n",
    "    scoring='accuracy',\n",
    ")\n",
    "\n",
    "model_k_neighbors.fit(xtrain1, ytrain1)\n",
    "\n",
    "print('-----')\n",
    "print(f'Best parameters {model_k_neighbors.best_params_}')\n",
    "print(\n",
    "    f'Mean cross-validated accuracy score of the best_estimator: ' + \n",
    "    f'{model_k_neighbors.best_score_:.3f}'\n",
    ")\n",
    "cross_valid_scores['k_neighbors'] = model_k_neighbors.best_score_\n",
    "print('-----')"
   ]
  },
  {
   "cell_type": "code",
   "execution_count": 51,
   "id": "ff10fe4b",
   "metadata": {},
   "outputs": [
    {
     "name": "stdout",
     "output_type": "stream",
     "text": [
      "Fold:1, Train set: 208231, Test set:52058\n",
      "Fold:2, Train set: 208231, Test set:52058\n",
      "Fold:3, Train set: 208231, Test set:52058\n",
      "Fold:4, Train set: 208231, Test set:52058\n",
      "Fold:5, Train set: 208232, Test set:52057\n"
     ]
    }
   ],
   "source": [
    "from sklearn.model_selection import KFold, StratifiedKFold, cross_val_score\n",
    "kf = StratifiedKFold(n_splits=5, shuffle=True, random_state=42)\n",
    "\n",
    "cnt = 1\n",
    "\n",
    "for train_index1, test_index1 in kf.split(X1, y1):\n",
    "    print(f'Fold:{cnt}, Train set: {len(train_index1)}, Test set:{len(test_index1)}')\n",
    "    cnt+=1"
   ]
  },
  {
   "cell_type": "code",
   "execution_count": 52,
   "id": "b7b04344",
   "metadata": {},
   "outputs": [
    {
     "name": "stdout",
     "output_type": "stream",
     "text": [
      "Scores for each fold are: [1. 1. 1. 1. 1.]\n",
      "Average score: 1.00\n"
     ]
    }
   ],
   "source": [
    "score = cross_val_score(RandomForestClassifier(class_weight='balanced', max_depth=13, n_estimators=15,\n",
    "                       random_state=42), X1, y1, cv= kf, scoring=\"accuracy\")\n",
    "print(f'Scores for each fold are: {score}')\n",
    "print(f'Average score: {\"{:.2f}\".format(score.mean())}')"
   ]
  },
  {
   "cell_type": "code",
   "execution_count": 53,
   "id": "593d57cd",
   "metadata": {},
   "outputs": [
    {
     "name": "stdout",
     "output_type": "stream",
     "text": [
      "Scores for each fold are: [1. 1. 1. 1. 1.]\n",
      "Average score: 1.00\n"
     ]
    }
   ],
   "source": [
    "score = cross_val_score(KNeighborsClassifier(weights='distance'), X1, y1, cv= kf, scoring=\"accuracy\")\n",
    "print(f'Scores for each fold are: {score}')\n",
    "print(f'Average score: {\"{:.2f}\".format(score.mean())}')"
   ]
  },
  {
   "cell_type": "code",
   "execution_count": 54,
   "id": "a84a8e75",
   "metadata": {},
   "outputs": [
    {
     "name": "stdout",
     "output_type": "stream",
     "text": [
      "Scores for each fold are: [1. 1. 1. 1. 1.]\n",
      "Average score: 1.00\n"
     ]
    }
   ],
   "source": [
    "score = cross_val_score(DecisionTreeClassifier(class_weight='balanced', max_depth=13, random_state=42), X1, y1, cv= kf, scoring=\"accuracy\")\n",
    "print(f'Scores for each fold are: {score}')\n",
    "print(f'Average score: {\"{:.2f}\".format(score.mean())}')"
   ]
  },
  {
   "cell_type": "code",
   "execution_count": 55,
   "id": "e3d7f1c0",
   "metadata": {},
   "outputs": [],
   "source": [
    "from sklearn.metrics import classification_report\n",
    "dt = DecisionTreeClassifier(class_weight='balanced', max_depth=13, random_state=42)\n",
    "rn = RandomForestClassifier(class_weight='balanced', max_depth=13, n_estimators=20,\n",
    "                       random_state=42)\n",
    "knn = KNeighborsClassifier(weights='distance')"
   ]
  },
  {
   "cell_type": "code",
   "execution_count": 56,
   "id": "650e1907",
   "metadata": {},
   "outputs": [],
   "source": [
    "from sklearn.model_selection import train_test_split\n",
    "xtrain1, xtest1, ytrain1, ytest1 = train_test_split(X1, y1,test_size=0.99,random_state=42)"
   ]
  },
  {
   "cell_type": "code",
   "execution_count": 57,
   "id": "b1a7c7f4",
   "metadata": {},
   "outputs": [
    {
     "name": "stdout",
     "output_type": "stream",
     "text": [
      "7.249116897583008\n",
      "              precision    recall  f1-score   support\n",
      "\n",
      "         1.0       1.00      1.00      1.00     15958\n",
      "         2.0       1.00      1.00      1.00     18060\n",
      "         3.0       1.00      1.00      1.00     12502\n",
      "         4.0       1.00      1.00      1.00     24163\n",
      "         5.0       1.00      1.00      1.00     12960\n",
      "         6.0       1.00      1.00      1.00     28351\n",
      "         7.0       1.00      1.00      1.00        83\n",
      "         8.0       1.00      1.00      1.00     32801\n",
      "         9.0       1.00      1.00      1.00       431\n",
      "        10.0       1.00      1.00      1.00     34772\n",
      "        11.0       1.00      1.00      1.00       400\n",
      "        12.0       1.00      1.00      1.00     21913\n",
      "        13.0       1.00      1.00      1.00       867\n",
      "        15.0       1.00      1.00      1.00     20882\n",
      "        16.0       1.00      1.00      1.00       185\n",
      "        18.0       1.00      1.00      1.00     15988\n",
      "        19.0       1.00      1.00      1.00      1481\n",
      "        25.0       1.00      1.00      1.00     14158\n",
      "        26.0       1.00      1.00      1.00      1732\n",
      "\n",
      "    accuracy                           1.00    257687\n",
      "   macro avg       1.00      1.00      1.00    257687\n",
      "weighted avg       1.00      1.00      1.00    257687\n",
      "\n"
     ]
    }
   ],
   "source": [
    "inicio= time.time()\n",
    "knn.fit(X1,y1)\n",
    "ypred= knn.predict(xtest1)\n",
    "fin= time.time()\n",
    "print(fin-inicio)\n",
    "print(classification_report(ypred, ytest1))"
   ]
  },
  {
   "cell_type": "code",
   "execution_count": 58,
   "id": "fe6e2433",
   "metadata": {},
   "outputs": [
    {
     "name": "stdout",
     "output_type": "stream",
     "text": [
      "4.624337196350098\n",
      "              precision    recall  f1-score   support\n",
      "\n",
      "         1.0       1.00      1.00      1.00     15958\n",
      "         2.0       1.00      1.00      1.00     18060\n",
      "         3.0       1.00      1.00      1.00     12502\n",
      "         4.0       1.00      1.00      1.00     24163\n",
      "         5.0       1.00      1.00      1.00     12960\n",
      "         6.0       1.00      1.00      1.00     28351\n",
      "         7.0       1.00      1.00      1.00        83\n",
      "         8.0       1.00      1.00      1.00     32801\n",
      "         9.0       1.00      1.00      1.00       431\n",
      "        10.0       1.00      1.00      1.00     34772\n",
      "        11.0       1.00      1.00      1.00       400\n",
      "        12.0       1.00      1.00      1.00     21913\n",
      "        13.0       1.00      1.00      1.00       867\n",
      "        15.0       1.00      1.00      1.00     20882\n",
      "        16.0       1.00      1.00      1.00       185\n",
      "        18.0       1.00      1.00      1.00     15988\n",
      "        19.0       1.00      1.00      1.00      1481\n",
      "        25.0       1.00      1.00      1.00     14158\n",
      "        26.0       1.00      1.00      1.00      1732\n",
      "\n",
      "    accuracy                           1.00    257687\n",
      "   macro avg       1.00      1.00      1.00    257687\n",
      "weighted avg       1.00      1.00      1.00    257687\n",
      "\n"
     ]
    }
   ],
   "source": [
    "inicio= time.time()\n",
    "rn.fit(X1,y1)\n",
    "ypred= rn.predict(xtest1)\n",
    "fin= time.time()\n",
    "print(fin-inicio)\n",
    "print(classification_report(ypred, ytest1))"
   ]
  },
  {
   "cell_type": "code",
   "execution_count": 59,
   "id": "961c09ed",
   "metadata": {},
   "outputs": [
    {
     "name": "stdout",
     "output_type": "stream",
     "text": [
      "0.7340521812438965\n",
      "              precision    recall  f1-score   support\n",
      "\n",
      "         1.0       1.00      1.00      1.00     15958\n",
      "         2.0       1.00      1.00      1.00     18060\n",
      "         3.0       1.00      1.00      1.00     12502\n",
      "         4.0       1.00      1.00      1.00     24163\n",
      "         5.0       1.00      1.00      1.00     12960\n",
      "         6.0       1.00      1.00      1.00     28351\n",
      "         7.0       1.00      1.00      1.00        83\n",
      "         8.0       1.00      1.00      1.00     32801\n",
      "         9.0       1.00      1.00      1.00       431\n",
      "        10.0       1.00      1.00      1.00     34772\n",
      "        11.0       1.00      1.00      1.00       400\n",
      "        12.0       1.00      1.00      1.00     21913\n",
      "        13.0       1.00      1.00      1.00       867\n",
      "        15.0       1.00      1.00      1.00     20882\n",
      "        16.0       1.00      1.00      1.00       185\n",
      "        18.0       1.00      1.00      1.00     15988\n",
      "        19.0       1.00      1.00      1.00      1481\n",
      "        25.0       1.00      1.00      1.00     14158\n",
      "        26.0       1.00      1.00      1.00      1732\n",
      "\n",
      "    accuracy                           1.00    257687\n",
      "   macro avg       1.00      1.00      1.00    257687\n",
      "weighted avg       1.00      1.00      1.00    257687\n",
      "\n"
     ]
    }
   ],
   "source": [
    "inicio= time.time()\n",
    "dt.fit(X1,y1)\n",
    "ypred= dt.predict(xtest1)\n",
    "fin= time.time()\n",
    "print(fin-inicio)\n",
    "print(classification_report(ypred, ytest1))"
   ]
  },
  {
   "cell_type": "code",
   "execution_count": 60,
   "id": "20b637e6",
   "metadata": {},
   "outputs": [
    {
     "data": {
      "text/plain": [
       "['dtPoints.joblib']"
      ]
     },
     "execution_count": 60,
     "metadata": {},
     "output_type": "execute_result"
    }
   ],
   "source": [
    "joblib.dump(dt, \"dtPoints.joblib\")"
   ]
  },
  {
   "cell_type": "code",
   "execution_count": 61,
   "id": "630ba01a",
   "metadata": {},
   "outputs": [],
   "source": [
    "X2= data[['driverId',\"racerId\",\"constructorId\",\"grid\",\"laps\",\"timetaken_in_millisec\",\"fastestLap\",\"max_speed\",\"statusId\",\"year\",\"age\",\"nationalityN\",\"points\"]]\n",
    "y2= data[\"finish\"]"
   ]
  },
  {
   "cell_type": "code",
   "execution_count": 62,
   "id": "6c01867e",
   "metadata": {},
   "outputs": [],
   "source": [
    "from sklearn.model_selection import train_test_split\n",
    "xtrain2, xtest2, ytrain2, ytest2 = train_test_split(X2, y2,test_size=0.4,random_state=42)"
   ]
  },
  {
   "cell_type": "code",
   "execution_count": 63,
   "id": "6a995df6",
   "metadata": {},
   "outputs": [
    {
     "name": "stdout",
     "output_type": "stream",
     "text": [
      "-----\n",
      "Best parameters DecisionTreeClassifier(class_weight='balanced', max_depth=13, random_state=42)\n",
      "Mean cross-validated accuracy score of the best_estimator: 1.000\n",
      "-----\n"
     ]
    }
   ],
   "source": [
    "cross_valid_scores = {}\n",
    "parameters=  {\n",
    "     \"max_depth\" : [3, 5, 7, 9, 11, 13],\n",
    "}\n",
    "\n",
    "model_desicion_tree = DecisionTreeClassifier(\n",
    "    random_state=42,\n",
    "    class_weight='balanced',\n",
    ")\n",
    "\n",
    "model_desicion_tree = GridSearchCV(\n",
    "    model_desicion_tree, \n",
    "    parameters, \n",
    "    cv=5,\n",
    "    scoring='accuracy',\n",
    ")\n",
    "\n",
    "model_desicion_tree.fit(xtrain2, ytrain2)\n",
    "\n",
    "print('-----')\n",
    "print(f'Best parameters {model_desicion_tree.best_estimator_}')\n",
    "print(\n",
    "    f'Mean cross-validated accuracy score of the best_estimator: ' + \\\n",
    "    f'{model_desicion_tree.best_score_:.3f}'\n",
    ")\n",
    "cross_valid_scores['desicion_tree'] = model_desicion_tree.best_score_\n",
    "print('-----')"
   ]
  },
  {
   "cell_type": "code",
   "execution_count": 64,
   "id": "bd7f2c65",
   "metadata": {},
   "outputs": [
    {
     "name": "stdout",
     "output_type": "stream",
     "text": [
      "-----\n",
      "Best parameters RandomForestClassifier(class_weight='balanced', max_depth=13, n_estimators=10,\n",
      "                       random_state=42)\n",
      "Mean cross-validated accuracy score of the best_estimator: 1.000\n",
      "-----\n"
     ]
    }
   ],
   "source": [
    "from sklearn.model_selection import GridSearchCV\n",
    "parameters = {\n",
    "    \"n_estimators\": [5, 10, 15, 20, 25], \n",
    "    \"max_depth\": [3, 5, 7, 9, 11, 13],\n",
    "}\n",
    "\n",
    "model_random_forest = RandomForestClassifier(\n",
    "    random_state=42,\n",
    "    class_weight='balanced',\n",
    ")\n",
    "\n",
    "model_random_forest = GridSearchCV(\n",
    "    model_random_forest, \n",
    "    parameters, \n",
    "    cv=5,\n",
    "    scoring='accuracy',\n",
    ")\n",
    "\n",
    "model_random_forest.fit(xtrain2, ytrain2)\n",
    "\n",
    "print('-----')\n",
    "print(f'Best parameters {model_random_forest.best_estimator_}')\n",
    "print(\n",
    "    f'Mean cross-validated accuracy score of the best_estimator: '+ \\\n",
    "    f'{model_random_forest.best_score_:.3f}'\n",
    ")\n",
    "cross_valid_scores['random_forest'] = model_random_forest.best_score_\n",
    "print('-----')"
   ]
  },
  {
   "cell_type": "code",
   "execution_count": 65,
   "id": "50ea7a90",
   "metadata": {},
   "outputs": [
    {
     "name": "stdout",
     "output_type": "stream",
     "text": [
      "-----\n",
      "Best parameters {'weights': 'uniform'}\n",
      "Mean cross-validated accuracy score of the best_estimator: 1.000\n",
      "-----\n"
     ]
    }
   ],
   "source": [
    "from sklearn.model_selection import GridSearchCV\n",
    "parameters = {\n",
    "            \"weights\": [\"uniform\", \"distance\"],\n",
    "              \n",
    "              }\n",
    "\n",
    "\n",
    "model_k_neighbors = KNeighborsClassifier(\n",
    ")\n",
    "\n",
    "model_k_neighbors = GridSearchCV(\n",
    "    model_k_neighbors, \n",
    "    parameters, \n",
    "    cv=5,\n",
    "    scoring='accuracy',\n",
    ")\n",
    "\n",
    "model_k_neighbors.fit(xtrain2, ytrain2)\n",
    "\n",
    "print('-----')\n",
    "print(f'Best parameters {model_k_neighbors.best_params_}')\n",
    "print(\n",
    "    f'Mean cross-validated accuracy score of the best_estimator: ' + \n",
    "    f'{model_k_neighbors.best_score_:.3f}'\n",
    ")\n",
    "cross_valid_scores['k_neighbors'] = model_k_neighbors.best_score_\n",
    "print('-----')"
   ]
  },
  {
   "cell_type": "code",
   "execution_count": 66,
   "id": "0204f093",
   "metadata": {},
   "outputs": [
    {
     "name": "stdout",
     "output_type": "stream",
     "text": [
      "Fold:1, Train set: 208232, Test set:52057\n",
      "Fold:2, Train set: 208232, Test set:52057\n",
      "Fold:3, Train set: 208232, Test set:52057\n",
      "Fold:4, Train set: 208232, Test set:52057\n",
      "Fold:5, Train set: 208232, Test set:52057\n"
     ]
    }
   ],
   "source": [
    "from sklearn.model_selection import KFold, StratifiedKFold, cross_val_score\n",
    "kf = StratifiedKFold(n_splits=5, shuffle=True, random_state=42)\n",
    "\n",
    "cnt = 1\n",
    "\n",
    "for train_index2, test_index2 in kf.split(X2, y2):\n",
    "    print(f'Fold:{cnt}, Train set: {len(train_index1)}, Test set:{len(test_index1)}')\n",
    "    cnt+=1"
   ]
  },
  {
   "cell_type": "code",
   "execution_count": 67,
   "id": "c401080a",
   "metadata": {},
   "outputs": [
    {
     "name": "stdout",
     "output_type": "stream",
     "text": [
      "Scores for each fold are: [1. 1. 1. 1. 1.]\n",
      "Average score: 1.00\n"
     ]
    }
   ],
   "source": [
    "score = cross_val_score(RandomForestClassifier(class_weight='balanced', max_depth=13, n_estimators=15,\n",
    "                       random_state=42), X2, y2, cv= kf, scoring=\"accuracy\")\n",
    "print(f'Scores for each fold are: {score}')\n",
    "print(f'Average score: {\"{:.2f}\".format(score.mean())}')"
   ]
  },
  {
   "cell_type": "code",
   "execution_count": 68,
   "id": "bb364e9d",
   "metadata": {},
   "outputs": [
    {
     "name": "stdout",
     "output_type": "stream",
     "text": [
      "Scores for each fold are: [1. 1. 1. 1. 1.]\n",
      "Average score: 1.00\n"
     ]
    }
   ],
   "source": [
    "score = cross_val_score(KNeighborsClassifier(weights='distance'), X2, y2, cv= kf, scoring=\"accuracy\")\n",
    "print(f'Scores for each fold are: {score}')\n",
    "print(f'Average score: {\"{:.2f}\".format(score.mean())}')"
   ]
  },
  {
   "cell_type": "code",
   "execution_count": 69,
   "id": "a0c3756a",
   "metadata": {},
   "outputs": [
    {
     "name": "stdout",
     "output_type": "stream",
     "text": [
      "Scores for each fold are: [1. 1. 1. 1. 1.]\n",
      "Average score: 1.00\n"
     ]
    }
   ],
   "source": [
    "score = cross_val_score(DecisionTreeClassifier(class_weight='balanced', max_depth=13, random_state=42), X2, y2, cv= kf, scoring=\"accuracy\")\n",
    "print(f'Scores for each fold are: {score}')\n",
    "print(f'Average score: {\"{:.2f}\".format(score.mean())}')"
   ]
  },
  {
   "cell_type": "code",
   "execution_count": 70,
   "id": "885ce697",
   "metadata": {},
   "outputs": [],
   "source": [
    "from sklearn.metrics import classification_report\n",
    "dt = DecisionTreeClassifier(class_weight='balanced', max_depth=13, random_state=42)\n",
    "rn = RandomForestClassifier(class_weight='balanced', max_depth=13, n_estimators=20,\n",
    "                       random_state=42)\n",
    "knn = KNeighborsClassifier(weights='distance')"
   ]
  },
  {
   "cell_type": "code",
   "execution_count": 71,
   "id": "e96ce6f9",
   "metadata": {},
   "outputs": [],
   "source": [
    "from sklearn.model_selection import train_test_split\n",
    "xtrain2, xtest2, ytrain2, ytest2 = train_test_split(X2, y2,test_size=0.99,random_state=42)"
   ]
  },
  {
   "cell_type": "code",
   "execution_count": 72,
   "id": "f8ddd3bd",
   "metadata": {},
   "outputs": [
    {
     "name": "stdout",
     "output_type": "stream",
     "text": [
      "5.882439851760864\n",
      "              precision    recall  f1-score   support\n",
      "\n",
      "         1.0       1.00      1.00      1.00     33227\n",
      "         2.0       1.00      1.00      1.00     35007\n",
      "         3.0       1.00      1.00      1.00     36650\n",
      "         4.0       1.00      1.00      1.00     35740\n",
      "         5.0       1.00      1.00      1.00     31051\n",
      "         6.0       1.00      1.00      1.00     28196\n",
      "         7.0       1.00      1.00      1.00     22195\n",
      "         8.0       1.00      1.00      1.00     19698\n",
      "         9.0       1.00      1.00      1.00      8716\n",
      "        10.0       1.00      1.00      1.00      7207\n",
      "\n",
      "    accuracy                           1.00    257687\n",
      "   macro avg       1.00      1.00      1.00    257687\n",
      "weighted avg       1.00      1.00      1.00    257687\n",
      "\n"
     ]
    }
   ],
   "source": [
    "inicio= time.time()\n",
    "knn.fit(X2,y2)\n",
    "ypred= knn.predict(xtest2)\n",
    "fin= time.time()\n",
    "print(fin-inicio)\n",
    "print(classification_report(ypred, ytest2))"
   ]
  },
  {
   "cell_type": "code",
   "execution_count": 73,
   "id": "42539dbd",
   "metadata": {},
   "outputs": [
    {
     "name": "stdout",
     "output_type": "stream",
     "text": [
      "3.677990198135376\n",
      "              precision    recall  f1-score   support\n",
      "\n",
      "         1.0       1.00      1.00      1.00     33227\n",
      "         2.0       1.00      1.00      1.00     35007\n",
      "         3.0       1.00      1.00      1.00     36650\n",
      "         4.0       1.00      1.00      1.00     35740\n",
      "         5.0       1.00      1.00      1.00     31051\n",
      "         6.0       1.00      1.00      1.00     28196\n",
      "         7.0       1.00      1.00      1.00     22195\n",
      "         8.0       1.00      1.00      1.00     19698\n",
      "         9.0       1.00      1.00      1.00      8716\n",
      "        10.0       1.00      1.00      1.00      7207\n",
      "\n",
      "    accuracy                           1.00    257687\n",
      "   macro avg       1.00      1.00      1.00    257687\n",
      "weighted avg       1.00      1.00      1.00    257687\n",
      "\n"
     ]
    }
   ],
   "source": [
    "inicio= time.time()\n",
    "rn.fit(X2,y2)\n",
    "ypred= rn.predict(xtest2)\n",
    "fin= time.time()\n",
    "print(fin-inicio)\n",
    "print(classification_report(ypred, ytest2))"
   ]
  },
  {
   "cell_type": "code",
   "execution_count": 74,
   "id": "cbe48933",
   "metadata": {},
   "outputs": [
    {
     "name": "stdout",
     "output_type": "stream",
     "text": [
      "0.7036929130554199\n",
      "              precision    recall  f1-score   support\n",
      "\n",
      "         1.0       1.00      1.00      1.00     33227\n",
      "         2.0       1.00      1.00      1.00     35007\n",
      "         3.0       1.00      1.00      1.00     36650\n",
      "         4.0       1.00      1.00      1.00     35740\n",
      "         5.0       1.00      1.00      1.00     31051\n",
      "         6.0       1.00      1.00      1.00     28196\n",
      "         7.0       1.00      1.00      1.00     22195\n",
      "         8.0       1.00      1.00      1.00     19698\n",
      "         9.0       1.00      1.00      1.00      8716\n",
      "        10.0       1.00      1.00      1.00      7207\n",
      "\n",
      "    accuracy                           1.00    257687\n",
      "   macro avg       1.00      1.00      1.00    257687\n",
      "weighted avg       1.00      1.00      1.00    257687\n",
      "\n"
     ]
    }
   ],
   "source": [
    "inicio= time.time()\n",
    "dt.fit(X2,y2)\n",
    "ypred= dt.predict(xtest2)\n",
    "fin= time.time()\n",
    "print(fin-inicio)\n",
    "print(classification_report(ypred, ytest2))"
   ]
  }
 ],
 "metadata": {
  "kernelspec": {
   "display_name": "Python 3 (ipykernel)",
   "language": "python",
   "name": "python3"
  },
  "language_info": {
   "codemirror_mode": {
    "name": "ipython",
    "version": 3
   },
   "file_extension": ".py",
   "mimetype": "text/x-python",
   "name": "python",
   "nbconvert_exporter": "python",
   "pygments_lexer": "ipython3",
   "version": "3.11.1"
  }
 },
 "nbformat": 4,
 "nbformat_minor": 5
}
